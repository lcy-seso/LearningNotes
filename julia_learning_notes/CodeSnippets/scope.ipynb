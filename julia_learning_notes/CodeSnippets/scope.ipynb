{
 "cells": [
  {
   "cell_type": "markdown",
   "metadata": {},
   "source": [
    "# [Scope](https://docs.julialang.org/en/v1/manual/variables-and-scoping/)\n",
    "\n",
    "Julia uses _**lexical scoping**_:\n",
    "* a function's scope does not inherit from its caller's scope, but from the scope in which the function was defined.\n",
    "* the scope of variables can be _**inferred from the source code alone**_.\n",
    "\n",
    "[Scope constructs in Julia](https://docs.julialang.org/en/v1/manual/variables-and-scoping/#man-scope-table-1)"
   ]
  },
  {
   "cell_type": "code",
   "execution_count": 1,
   "metadata": {},
   "outputs": [
    {
     "data": {
      "text/plain": [
       "Main.MyModule"
      ]
     },
     "execution_count": 1,
     "metadata": {},
     "output_type": "execute_result"
    }
   ],
   "source": [
    "module MyModule\n",
    "x = -1\n",
    "foo() = x\n",
    "end"
   ]
  },
  {
   "cell_type": "code",
   "execution_count": 2,
   "metadata": {},
   "outputs": [
    {
     "data": {
      "text/plain": [
       "-1"
      ]
     },
     "execution_count": 2,
     "metadata": {},
     "output_type": "execute_result"
    }
   ],
   "source": [
    "import .MyModule\n",
    "\n",
    "x = 5\n",
    "MyModule.foo()  # foo's scope inherits from the global scope where it is defined\n",
    "                # instead of from the caller"
   ]
  },
  {
   "cell_type": "markdown",
   "metadata": {},
   "source": [
    "## Global scope\n",
    "\n",
    "* `module` introduces a new global scope which is a so-called _**namespace**_\n",
    "* there is no all-encompassing global scope. \n",
    "* Note that _**variable bindings can only be changed within their global scope and not from an outside module**_.\n",
    "    * _**Global assignment is always module-local**_.\n",
    "\n",
    "Type and macro definitions as they can _**only**_ appear at the global scope. "
   ]
  },
  {
   "cell_type": "code",
   "execution_count": 3,
   "metadata": {},
   "outputs": [
    {
     "ename": "ErrorException",
     "evalue": "syntax: \"struct\" expression not at top level",
     "output_type": "error",
     "traceback": [
      "syntax: \"struct\" expression not at top level",
      ""
     ]
    }
   ],
   "source": [
    "function func1()\n",
    "    struct A\n",
    "        x\n",
    "    end\n",
    "end"
   ]
  },
  {
   "cell_type": "markdown",
   "metadata": {},
   "source": [
    "## Local scope\n",
    "\n",
    "* A local scope inherits:\n",
    "    1. all the variables from a parent local scope, both for reading and writing.\n",
    "    1. all global variables that are assigned in its parent global scope block.\n",
    "* A newly introduced variable in a local scope does not back-propagate to its parent scope.\n",
    "\n",
    "In a local scope, all variables are inherited from its parent global scope block unless:\n",
    "1. an assignment would result in a modified global variable.\n",
    "    * In a local scope, global variables are _**only inherited for reading, not for writing**_.\n",
    "1. a variable is specifically marked with the keyword `local`."
   ]
  },
  {
   "cell_type": "code",
   "execution_count": 4,
   "metadata": {},
   "outputs": [
    {
     "name": "stdout",
     "output_type": "stream",
     "text": [
      "func2() = 7\n"
     ]
    },
    {
     "data": {
      "text/plain": [
       "5"
      ]
     },
     "execution_count": 4,
     "metadata": {},
     "output_type": "execute_result"
    }
   ],
   "source": [
    "x = 5  # x in the global scope.\n",
    "\n",
    "function func2()\n",
    "    x = 1  # this assigment creates a new local variable\n",
    "    function func3()  # nested function can modify variables in parent scope.\n",
    "        x += 5  # Access to x in the parent scope and modifiy it.\n",
    "    end\n",
    "    \n",
    "    x + func3()\n",
    "end\n",
    "\n",
    "@show func2()\n",
    "x  # global x does not change."
   ]
  },
  {
   "cell_type": "markdown",
   "metadata": {},
   "source": [
    "## `let` blocks\n",
    "\n",
    "`let` statements allocate new variable bindings each time they run. "
   ]
  },
  {
   "cell_type": "code",
   "execution_count": 5,
   "metadata": {},
   "outputs": [
    {
     "name": "stdout",
     "output_type": "stream",
     "text": [
      "x = 6\n",
      "x = 5\n"
     ]
    },
    {
     "data": {
      "text/plain": [
       "5"
      ]
     },
     "execution_count": 5,
     "metadata": {},
     "output_type": "execute_result"
    }
   ],
   "source": [
    "x = 5\n",
    "\n",
    "# let is evaluated in the global scope\n",
    "let x = x, z  # introduce new local variable x and z into a local scope \n",
    "    x += 1    # assign the value of global x to local x and change the value of local x\n",
    "    @show x   # show the value of local variable\n",
    "end\n",
    "\n",
    "@show x  # global x does not change."
   ]
  },
  {
   "cell_type": "markdown",
   "metadata": {},
   "source": [
    "A for loop or comprehension iteration variable is always a new variable, but the keyword `outer` canbe used to reuse the iteration variable."
   ]
  },
  {
   "cell_type": "code",
   "execution_count": 6,
   "metadata": {},
   "outputs": [
    {
     "name": "stdout",
     "output_type": "stream",
     "text": [
      "i = 0\n"
     ]
    },
    {
     "data": {
      "text/plain": [
       "0"
      ]
     },
     "execution_count": 6,
     "metadata": {},
     "output_type": "execute_result"
    }
   ],
   "source": [
    "i = 0\n",
    "\n",
    "for i = 1 : 3 end # this i is a new variable\n",
    "@show i"
   ]
  },
  {
   "cell_type": "code",
   "execution_count": 7,
   "metadata": {},
   "outputs": [
    {
     "name": "stdout",
     "output_type": "stream",
     "text": [
      "i = 3\n"
     ]
    },
    {
     "data": {
      "text/plain": [
       "3"
      ]
     },
     "execution_count": 7,
     "metadata": {},
     "output_type": "execute_result"
    }
   ],
   "source": [
    "function func4()\n",
    "    i = 0\n",
    "    # outer can only be used in a local scope.\n",
    "    for outer i = 1 : 3 end  # reuse previous defined i\n",
    "    @show i\n",
    "end\n",
    "\n",
    "func4()"
   ]
  },
  {
   "cell_type": "markdown",
   "metadata": {},
   "source": [
    "### Keyword `local` and `global`\n",
    "\n",
    "_**Inside a local scope**_, a variable can be forced to be a new local variable using keyword `local`."
   ]
  },
  {
   "cell_type": "code",
   "execution_count": 8,
   "metadata": {},
   "outputs": [
    {
     "name": "stdout",
     "output_type": "stream",
     "text": [
      "x = 6\n",
      "x = 7\n",
      "x = 8\n",
      "x = 5\n"
     ]
    }
   ],
   "source": [
    "function func5()\n",
    "    x = 5\n",
    "    \n",
    "    for i = 5 : 7\n",
    "        local x = i + 1  # x is a new variable.\n",
    "        @show x\n",
    "    end\n",
    "    \n",
    "    @show x  # x in line 2 does not change.\n",
    "end\n",
    "\n",
    "func5();"
   ]
  },
  {
   "cell_type": "markdown",
   "metadata": {},
   "source": [
    "_**Inside a local scope**_, a global variable can be assigned to by using the keyword `global`."
   ]
  },
  {
   "cell_type": "code",
   "execution_count": 9,
   "metadata": {},
   "outputs": [
    {
     "name": "stdout",
     "output_type": "stream",
     "text": [
      "a + 1 = 6\n",
      "a = 5\n"
     ]
    },
    {
     "data": {
      "text/plain": [
       "5"
      ]
     },
     "execution_count": 9,
     "metadata": {},
     "output_type": "execute_result"
    }
   ],
   "source": [
    "a = 5\n",
    "\n",
    "function func6()\n",
    "    @show a + 1  # this is OK.\n",
    "                 # the local scope inherits global variables from the global scope where it defines.\n",
    "end\n",
    "\n",
    "func6()\n",
    "@show a"
   ]
  },
  {
   "cell_type": "code",
   "execution_count": 10,
   "metadata": {},
   "outputs": [
    {
     "ename": "UndefVarError",
     "evalue": "UndefVarError: a not defined",
     "output_type": "error",
     "traceback": [
      "UndefVarError: a not defined",
      "",
      "Stacktrace:",
      " [1] macro expansion at ./show.jl:555 [inlined]",
      " [2] func7() at ./In[10]:2",
      " [3] top-level scope at In[10]:6"
     ]
    }
   ],
   "source": [
    "function func7()\n",
    "    @show a = a + 1  # this will raise an error.\n",
    "                     # in local variable, assignment will create a new variable binding!\n",
    "                     # the variable binding in outer global scope cannot be changed inside a local scope.\n",
    "end\n",
    "func7()"
   ]
  },
  {
   "cell_type": "code",
   "execution_count": 13,
   "metadata": {},
   "outputs": [
    {
     "name": "stdout",
     "output_type": "stream",
     "text": [
      "b = 6\n"
     ]
    }
   ],
   "source": [
    "b = 5\n",
    "function func8()\n",
    "    global b = b + 1  # a global variable canbe assigned to using keyword `global`.\n",
    "end\n",
    "\n",
    "func8()\n",
    "@show b;  # b's value is changed in the local scope."
   ]
  }
 ],
 "metadata": {
  "kernelspec": {
   "display_name": "Julia 1.1.0",
   "language": "julia",
   "name": "julia-1.1"
  },
  "language_info": {
   "file_extension": ".jl",
   "mimetype": "application/julia",
   "name": "julia",
   "version": "1.1.0"
  }
 },
 "nbformat": 4,
 "nbformat_minor": 2
}
