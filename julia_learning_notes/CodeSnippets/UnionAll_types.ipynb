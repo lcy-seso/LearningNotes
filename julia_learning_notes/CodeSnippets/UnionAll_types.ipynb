{
 "cells": [
  {
   "cell_type": "markdown",
   "metadata": {},
   "source": [
    "# [UnionAll Types](https://docs.julialang.org/en/v1/manual/types/#UnionAll-Types-1)\n",
    "\n",
    "The `UnionAll` type expresses the _**iterated union of types**_ for all values of some parameter."
   ]
  },
  {
   "cell_type": "code",
   "execution_count": 1,
   "metadata": {},
   "outputs": [],
   "source": [
    "struct Point{T}  # T is called type variable.\n",
    "    x::T\n",
    "    y::T\n",
    "end"
   ]
  },
  {
   "cell_type": "markdown",
   "metadata": {},
   "source": [
    "## What is the `UnionAll` type?\n",
    "\n",
    ">`UnionAll` types are usually written using the keyword `where`.\n",
    "\n",
    "* a parametric type like `Point` acts as a _**supertype of all its instances**_ (`Point{Int64}` etc.).\n",
    "* `Point` itself cannot be a normal data type\n",
    "    * without knowing the type of the referenced data the type clearly cannot be used for memory operations.\n",
    "* Actually, `Point` is a different kind of type called a `UnionAll` type.\n",
    "\n",
    "## Parametric type with multiple type variable\n",
    "\n",
    "```julia\n",
    "struct A{B,C}\n",
    "    m1::B\n",
    "    m2::C\n",
    "end\n",
    "```\n",
    "\n",
    "`A` is required to be a `UnionAll` type:\n",
    "\n",
    "1. _**First**_ substitutes `B` _**for the outermost**_ type variable in `A`.\n",
    "1. The result is _**another `UnionAll` type**_, into which `C` is then substituted.\n",
    "    * `A{B,C}` is equivalent to `A{B}{C}`. \n",
    "    * It is possible to partially instantiate a type.\n",
    "        * Example: in `Array{Float64}`: the first parameter value has been fixed, but the second still ranges over all possible values.\n",
    "1. Using explicit `where` syntax, any subset of parameters can be fixed.\n",
    "    * Example: the type of all 1-dimensional arrays can be written as: `Array{T,1} where T`."
   ]
  },
  {
   "cell_type": "code",
   "execution_count": 2,
   "metadata": {},
   "outputs": [],
   "source": [
    "struct MyType{T<:Integer}\n",
    "    a::T\n",
    "    b::T\n",
    "end"
   ]
  },
  {
   "cell_type": "code",
   "execution_count": 3,
   "metadata": {},
   "outputs": [
    {
     "data": {
      "text/plain": [
       "Array{#s1,N} where N where #s1<:Integer"
      ]
     },
     "execution_count": 3,
     "metadata": {},
     "output_type": "execute_result"
    }
   ],
   "source": [
    "Array{<:Integer} # "
   ]
  },
  {
   "cell_type": "markdown",
   "metadata": {},
   "source": [
    "_**When`where` expressions are nested, because the outermost type variable is evaluated first, type variable bounds can refer to outer type variables.**_"
   ]
  },
  {
   "cell_type": "code",
   "execution_count": 4,
   "metadata": {},
   "outputs": [
    {
     "data": {
      "text/plain": [
       "Tuple{T,Array{S,N} where N} where S<:(AbstractArray{T,N} where N) where T<:Real"
      ]
     },
     "execution_count": 4,
     "metadata": {},
     "output_type": "execute_result"
    }
   ],
   "source": [
    "Tuple{T, Array{S}} where S<:AbstractArray{T} where T<:Real"
   ]
  },
  {
   "cell_type": "markdown",
   "metadata": {},
   "source": [
    "### Type alias and more complex example"
   ]
  },
  {
   "cell_type": "code",
   "execution_count": 5,
   "metadata": {},
   "outputs": [
    {
     "data": {
      "text/plain": [
       "Array{Array{T,1} where T,1}"
      ]
     },
     "execution_count": 5,
     "metadata": {},
     "output_type": "execute_result"
    }
   ],
   "source": [
    "# Type T1 defines a 1-dimensional array of 1-dimensional arrays.\n",
    "# Each of the inner arrays consists of objects of the same type,\n",
    "# but the type may vary from one inner array to the next. \n",
    "const T1 = Array{Array{T,1} where T, 1}  # const T1 <--- the syntax for type alias"
   ]
  },
  {
   "cell_type": "code",
   "execution_count": 6,
   "metadata": {},
   "outputs": [
    {
     "data": {
      "text/plain": [
       "Array{Array{T,1},1} where T"
      ]
     },
     "execution_count": 6,
     "metadata": {},
     "output_type": "execute_result"
    }
   ],
   "source": [
    "# Type T2 defines a 1-dimensional array of 1-dimensional arrays.\n",
    "# All of T2's inner arrays must have the same type.\n",
    "const T2 = Array{Array{T,1}, 1} where T"
   ]
  }
 ],
 "metadata": {
  "kernelspec": {
   "display_name": "Julia 1.1.0",
   "language": "julia",
   "name": "julia-1.1"
  },
  "language_info": {
   "file_extension": ".jl",
   "mimetype": "application/julia",
   "name": "julia",
   "version": "1.1.0"
  }
 },
 "nbformat": 4,
 "nbformat_minor": 2
}
