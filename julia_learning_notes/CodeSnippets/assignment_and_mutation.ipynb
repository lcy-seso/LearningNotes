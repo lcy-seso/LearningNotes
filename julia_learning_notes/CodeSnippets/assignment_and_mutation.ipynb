{
 "cells": [
  {
   "cell_type": "markdown",
   "metadata": {},
   "source": [
    "# In Julia, [all arguments to functions are passed by sharing](https://docs.julialang.org/en/v1/manual/arrays/)\n",
    "\n",
    "- Pass an object, which can then be mutated.\n",
    "- [_**Call by sharing**_](https://en.wikipedia.org/wiki/Evaluation_strategy#Call_by_sharing)\n",
    "    1. It is not call by value because mutations of arguments performed by the called routine will be visible to the caller.\n",
    "    1. It is not call by reference because access is _**not given to the variables**_ of the caller, but _**merely to certain objects**_.\n",
    "        * If a variable was passed, _**it is not possible to simulate an assignment on that variable in the callee's scope**_.\n",
    "        * Assignments within a function are not noticeable to the caller."
   ]
  },
  {
   "cell_type": "code",
   "execution_count": 1,
   "metadata": {},
   "outputs": [
    {
     "name": "stdout",
     "output_type": "stream",
     "text": [
      "r = [6, 7, 8]\n",
      "a = [5, 6, 7]\n"
     ]
    }
   ],
   "source": [
    "function foo!(r::Array{Int64})\n",
    "    # Acess is not given to the variables of the caller.\n",
    "    # The assignment here will rebound variable r.\n",
    "    # The rebound variable ONLY exists within the scope of the function.\n",
    "    # The counterpart in the caller retains its original binding.\n",
    "    r = r.+ 1  # NOTE: += here is an assignment. It is not mutation.\n",
    "               # A function CANNOT change the binding of a variable in another scope. \n",
    "    @show r\n",
    "end\n",
    "\n",
    "a = [5, 6, 7]\n",
    "foo!(a)  # Array a is not modified.\n",
    "\n",
    "@show a;"
   ]
  },
  {
   "cell_type": "markdown",
   "metadata": {},
   "source": [
    "# Assignment and Mutation\n",
    "See this Stackoverflow answer: [Creating copies in Julia with = operator](https://stackoverflow.com/questions/33002572/creating-copies-in-julia-with-operator/33003055#33003055%EF%BC%89)\n",
    "\n",
    "_**Assignment and mutation are not the same thing.**_\n",
    "\n",
    "1. _**Assignment**_ changes variable bindings.\n",
    "\n",
    "  Assignment looks like `x = ...`.\n",
    "    1. What's left of the `=` is an identifier.\n",
    "    1. Assignment changes which object the variable `x` refers to which is called a _**variable binding**_.\n",
    "    1. It does not mutate any objects at all.\n",
    "\n",
    "1. _**Mutation**_. There are _**two typical ways**_ to mutate something in Julia: field access and indexing expression.\n",
    "\n",
    "    1. `x.f = ...` left of the `=` is a field _access expression_\n",
    "        - field mutation is fundamental.\n",
    "    1. `x[i] = ...` left of the `=` is an indexing expression.\n",
    "        - Array mutation syntax is not fundamental.\n",
    "        - `x[i] = y` means `setindex!(x, y, i)` and you can either add methods to `setindex!` or locally change which generic function `setindex!`.\n",
    "\n",
    "**Array assignment is a builtin (a function implemented in C, and for which we know how to generate corresponding LLVM code).**"
   ]
  },
  {
   "cell_type": "code",
   "execution_count": 2,
   "metadata": {},
   "outputs": [
    {
     "name": "stdout",
     "output_type": "stream",
     "text": [
      "a = [1, 2, 3, 4, 5] = [1, 2, 3, 4, 5]\n",
      "b = a = [1, 2, 3, 4, 5]\n",
      "a = [1, 5, 3, 4, 5]\n",
      "b = [1, 5, 3, 4, 5]\n",
      "a = 0\n",
      "b = [1, 5, 3, 4, 5]\n"
     ]
    }
   ],
   "source": [
    "@show a = [1, 2, 3, 4, 5]\n",
    "@show b = a;  # variable binding.\n",
    "\n",
    "a[2] = 5  # mutation by indexing.\n",
    "@show a\n",
    "@show b;  # modification of variable a also affects variable b.\n",
    "\n",
    "a = 0  # variable binding.\n",
    "@show a\n",
    "@show b;  # b is still bound to the array value. "
   ]
  },
  {
   "cell_type": "code",
   "execution_count": 3,
   "metadata": {},
   "outputs": [
    {
     "name": "stdout",
     "output_type": "stream",
     "text": [
      "a = 5\n",
      "b = 2\n"
     ]
    }
   ],
   "source": [
    "a = 2\n",
    "b = a\n",
    "\n",
    "a = 5  # variable binding\n",
    "@show a\n",
    "@show b;  # b still holds the binding to the value 5."
   ]
  }
 ],
 "metadata": {
  "kernelspec": {
   "display_name": "Julia 1.1.0",
   "language": "julia",
   "name": "julia-1.1"
  },
  "language_info": {
   "file_extension": ".jl",
   "mimetype": "application/julia",
   "name": "julia",
   "version": "1.1.0"
  }
 },
 "nbformat": 4,
 "nbformat_minor": 2
}
