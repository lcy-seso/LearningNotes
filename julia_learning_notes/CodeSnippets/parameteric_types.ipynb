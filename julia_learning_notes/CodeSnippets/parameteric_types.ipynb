{
 "cells": [
  {
   "cell_type": "markdown",
   "metadata": {},
   "source": [
    "# Parametric Types\n",
    "\n",
    "* Parameteric type declaration actually declares an unlimited number of types."
   ]
  },
  {
   "cell_type": "code",
   "execution_count": 1,
   "metadata": {},
   "outputs": [],
   "source": [
    "# Declaration of a parameteric type.\n",
    "struct Tree{T}\n",
    "  value::T\n",
    "  children::Vector{Tree{T}}\n",
    "end"
   ]
  },
  {
   "cell_type": "markdown",
   "metadata": {},
   "source": [
    "* `Tree{Float64}`, `Tree{AbstractString}`, `Tree{Int64}`, etc.\n",
    "  * Each of these types is a usable concrete type.\n",
    "* _**`Tree` itself is also a valid type object which contains all instances**_ `Tree{Float64}`, `Tree{AbstractString}`, etc. as subtypes."
   ]
  },
  {
   "cell_type": "code",
   "execution_count": 2,
   "metadata": {},
   "outputs": [
    {
     "data": {
      "text/plain": [
       "true"
      ]
     },
     "execution_count": 2,
     "metadata": {},
     "output_type": "execute_result"
    }
   ],
   "source": [
    "Tree{Float64} <: Tree"
   ]
  },
  {
   "cell_type": "markdown",
   "metadata": {},
   "source": [
    "_**Concrete `Tree` types with different values of `T` are never subtypes of each other:  Julia's type parameters are invariant, rather than being covariant.**_\n",
    "\n",
    "# Parametric Constructors\n",
    "\n",
    "* In Julia, type objects also serve as constructor functions.\n",
    "* _**Only one**_ default constructor is generated for parametric types: accepts any arguments and converts them to the field types.\n",
    "* In the absence of any special constructor declarations, there are two default ways of creating new parametric composite objects:\n",
    "    1. the type parameters are _**explicitly given**_.\n",
    "    1. the type parameters are _**implied by the arguments**_ to the object constructor."
   ]
  },
  {
   "cell_type": "code",
   "execution_count": 3,
   "metadata": {},
   "outputs": [
    {
     "name": "stdout",
     "output_type": "stream",
     "text": [
      "a = Tree(5) = Tree{Int64}(5, Tree{Int64}[])\n",
      "b = Tree{Int64}(5) = Tree{Int64}(5, Tree{Int64}[])\n"
     ]
    }
   ],
   "source": [
    "# about the where keyword: https://docs.julialang.org/en/v1/base/base/#where\n",
    "# The where keyword creates a type that is an iterated union of other types,\n",
    "# over all values of some variable.\n",
    "\n",
    "# Constructors\n",
    "Tree{T}(x::T, xs::Tree{T}...) where T = Tree{T}(x, [xs...])\n",
    "# Tree{T}(x) where T = Tree(convert(T, x))\n",
    "\n",
    "Tree(x::T, xs::Tree{T}...) where T = Tree{T}(x, xs...)\n",
    "\n",
    "# The constructor call with implicit type parameters.\n",
    "@show a = Tree(5)\n",
    "@show b = Tree{Int64}(5);"
   ]
  },
  {
   "cell_type": "markdown",
   "metadata": {},
   "source": [
    "* In many cases, it is redundant to provide the type of `Tree` object one wants to construct: since the types of arguments to the constructor call already implicitly provide type information.\n",
    "* For that reason, `Tree` itself can be applied as a constructor, _**provided that the implied value of the parameter type T is unambiguous**_."
   ]
  }
 ],
 "metadata": {
  "kernelspec": {
   "display_name": "Julia 1.1.0",
   "language": "julia",
   "name": "julia-1.1"
  },
  "language_info": {
   "file_extension": ".jl",
   "mimetype": "application/julia",
   "name": "julia",
   "version": "1.1.0"
  }
 },
 "nbformat": 4,
 "nbformat_minor": 2
}
