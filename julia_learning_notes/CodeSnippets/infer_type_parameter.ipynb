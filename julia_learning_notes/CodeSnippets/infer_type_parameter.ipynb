{
 "cells": [
  {
   "cell_type": "markdown",
   "metadata": {},
   "source": [
    "Check this doc: [Parametric Constructors](https://docs.julialang.org/en/v1/manual/constructors/#Parametric-Constructors-1)"
   ]
  },
  {
   "cell_type": "code",
   "execution_count": 1,
   "metadata": {},
   "outputs": [
    {
     "name": "stdout",
     "output_type": "stream",
     "text": [
      "a = MyType1(rand(2, 2, 4)) = MyType1{Float64,Array{Float64,3}}([0.00122152 0.528674; 0.191643 0.679259]\n",
      "\n",
      "[0.472673 0.844281; 0.257331 0.202365]\n",
      "\n",
      "[0.284645 0.849092; 0.810085 0.981275]\n",
      "\n",
      "[0.0994855 0.559554; 0.954737 0.590271])\n",
      "b = MyType1(1.0) = MyType1{Float64,Float64}(1.0)\n"
     ]
    }
   ],
   "source": [
    "struct MyType1{T<:Real,A<:Union{T, AbstractArray{T}}}\n",
    "    y::A\n",
    "end\n",
    "\n",
    "# type parameters `T` and `A` are implicitly implied.\n",
    "@show a = MyType1(rand(2,2,4))\n",
    "@show b = MyType1(1.);"
   ]
  },
  {
   "cell_type": "code",
   "execution_count": 2,
   "metadata": {},
   "outputs": [
    {
     "name": "stdout",
     "output_type": "stream",
     "text": [
      "a = MyType2(rand(2, 2, 4)) = MyType2{Float64,3,Array{Float64,3}}([0.742742 0.894046; 0.811653 0.624135]\n",
      "\n",
      "[0.227382 0.255618; 0.893434 0.508721]\n",
      "\n",
      "[0.88327 0.459989; 0.30165 0.978497]\n",
      "\n",
      "[0.245345 0.236615; 0.421292 0.876418])\n"
     ]
    }
   ],
   "source": [
    "struct MyType2{T<:Real,N,A<:Union{T, AbstractArray{T,N}}}\n",
    "    y::A\n",
    "end\n",
    "\n",
    "# type parameters `T`, `N` and `A` are implicitly implied.\n",
    "@show a = MyType2(rand(2,2,4));"
   ]
  },
  {
   "cell_type": "code",
   "execution_count": 3,
   "metadata": {},
   "outputs": [
    {
     "ename": "UndefVarError",
     "evalue": "UndefVarError: N not defined",
     "output_type": "error",
     "traceback": [
      "UndefVarError: N not defined",
      "",
      "Stacktrace:",
      " [1] MyType2(::Float64) at ./In[2]:2",
      " [2] top-level scope at show.jl:555",
      " [3] top-level scope at In[3]:1"
     ]
    }
   ],
   "source": [
    "# type parameter `N` cannot be implied. Will throw an error.\n",
    "@show b = MyType2(1.);"
   ]
  },
  {
   "cell_type": "markdown",
   "metadata": {},
   "source": [
    "### A problem here is, type parameter `N` is unnecessary if `T` is a `Real`, as a result `N` cannot be inferred.\n",
    "\n",
    "This is a bad code style, that I cannot find a way to bypass it."
   ]
  },
  {
   "cell_type": "code",
   "execution_count": 4,
   "metadata": {},
   "outputs": [],
   "source": [
    "struct MyType3{T<:Real,N,A<:Union{T, AbstractArray{T,N}}}\n",
    "    y::A\n",
    "    \n",
    "    MyType3{T,N,A}(y::AbstractArray{T,N}) where{T,N,A} = new(y)\n",
    "    MyType3{T,N,A}(y::Real) where{T,N,A} = new(y)\n",
    "end"
   ]
  },
  {
   "cell_type": "code",
   "execution_count": 5,
   "metadata": {},
   "outputs": [
    {
     "name": "stdout",
     "output_type": "stream",
     "text": [
      "T = Float64\n"
     ]
    },
    {
     "ename": "MethodError",
     "evalue": "MethodError: Cannot `convert` an object of type Float64 to an object of type AbstractArray{Float64,1}\nClosest candidates are:\n  convert(::Type{T<:AbstractArray}, !Matched::T<:AbstractArray) where T<:AbstractArray at abstractarray.jl:14\n  convert(::Type{AbstractArray{T,N}}, !Matched::AbstractArray{#s57,N} where #s57) where {T, N} at abstractarray.jl:16\n  convert(::Type{T<:AbstractArray}, !Matched::LinearAlgebra.Factorization) where T<:AbstractArray at /Users/ying/Documents/codes/Julia/julia-1.0.3/usr/share/julia/stdlib/v1.0/LinearAlgebra/src/factorization.jl:46\n  ...",
     "output_type": "error",
     "traceback": [
      "MethodError: Cannot `convert` an object of type Float64 to an object of type AbstractArray{Float64,1}\nClosest candidates are:\n  convert(::Type{T<:AbstractArray}, !Matched::T<:AbstractArray) where T<:AbstractArray at abstractarray.jl:14\n  convert(::Type{AbstractArray{T,N}}, !Matched::AbstractArray{#s57,N} where #s57) where {T, N} at abstractarray.jl:16\n  convert(::Type{T<:AbstractArray}, !Matched::LinearAlgebra.Factorization) where T<:AbstractArray at /Users/ying/Documents/codes/Julia/julia-1.0.3/usr/share/julia/stdlib/v1.0/LinearAlgebra/src/factorization.jl:46\n  ...",
      "",
      "Stacktrace:",
      " [1] MyType3{Float64,1,AbstractArray{Float64,1}}(::Float64) at ./In[4]:5",
      " [2] MyType3(::Float64) at ./In[5]:3",
      " [3] top-level scope at In[5]:5"
     ]
    }
   ],
   "source": [
    "function MyType3(y::T) where {T<:Real}\n",
    "    @show T\n",
    "    MyType3{T,1,AbstractArray{T,1}}(y)\n",
    "end\n",
    "MyType3(2.)"
   ]
  }
 ],
 "metadata": {
  "kernelspec": {
   "display_name": "Julia 1.0.3",
   "language": "julia",
   "name": "julia-1.0"
  },
  "language_info": {
   "file_extension": ".jl",
   "mimetype": "application/julia",
   "name": "julia",
   "version": "1.0.3"
  }
 },
 "nbformat": 4,
 "nbformat_minor": 2
}
