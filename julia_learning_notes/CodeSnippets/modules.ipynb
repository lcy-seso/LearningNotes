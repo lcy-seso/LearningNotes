{
 "cells": [
  {
   "cell_type": "markdown",
   "metadata": {},
   "source": [
    "# [Modules](https://docs.julialang.org/en/v1/manual/modules/)\n",
    "\n",
    "Modules in Julia introduce new _**global**_ scopes, or to say; modules allow users to create top-level definitions (global variables).\n",
    "1. One can have multiple files per module, and multiple modules per file.\n",
    "1. One can include the same code in different modules. \n",
    "\n",
    "## Keyword `using` and `import`\n",
    "\n",
    "_**If a name is qualified, then it can be accessed even if it is not exported.**_\n",
    "\n",
    "### `using`\n",
    "\n",
    "1. The [_**statement**_](https://github.com/lcy-seso/learning_notes/blob/master/programming_language/Glossary/basic_concepts.md#expression-and-statement-in-julia) `using Lib` means that a module called `Lib` will be _**available for resolving names**_ as needed.\n",
    "    * When a global variable is encountered that has no definition in the current module, the system will _**search**_ for it among variables exported by `Lib` and import it if it is found there.\n",
    "1. The [_**statement**_](https://github.com/lcy-seso/learning_notes/blob/master/programming_language/Glossary/basic_concepts.md#expression-and-statement-in-julia) `using Lib: thing1, thing2` brings just the identifiers `thing1` and `thing2` into scope from module `Lib`.\n",
    "    * If `thing1` and `thing2` refer to functions, _**adding methods to them will not be allowed**_.\n",
    "    \n",
    "### `import`\n",
    "\n",
    "1. The import _**keyword**_ only operates on a single name at a time.\n",
    "1. Functions imported using `import` _**can be extended with new methods**_.\n",
    "1. Imported variables are read-only.\n",
    "    * Assigning to a global variable always affects a variable owned by the current module (does this means create a new local variable?), or else raises an error."
   ]
  },
  {
   "cell_type": "code",
   "execution_count": 1,
   "metadata": {},
   "outputs": [
    {
     "data": {
      "text/plain": [
       "Main.MyTestModule1"
      ]
     },
     "execution_count": 1,
     "metadata": {},
     "output_type": "execute_result"
    }
   ],
   "source": [
    "module MyTestModule1\n",
    "export x, y, p, q\n",
    "\n",
    "x = 1\n",
    "y = 2\n",
    "z = 3\n",
    "\n",
    "p() = x\n",
    "q() = y\n",
    "r() = z\n",
    "\n",
    "end"
   ]
  },
  {
   "cell_type": "code",
   "execution_count": 2,
   "metadata": {},
   "outputs": [
    {
     "name": "stdout",
     "output_type": "stream",
     "text": [
      "x = 1\n",
      "y = 2\n",
      "p() = 1\n",
      "q() = 2\n",
      "MyTestModule1.z = 3\n"
     ]
    },
    {
     "ename": "UndefVarError",
     "evalue": "UndefVarError: z not defined",
     "output_type": "error",
     "traceback": [
      "UndefVarError: z not defined",
      "",
      "Stacktrace:",
      " [1] top-level scope at show.jl:555",
      " [2] top-level scope at In[2]:9"
     ]
    }
   ],
   "source": [
    "using .MyTestModule1\n",
    "\n",
    "@show x\n",
    "@show y\n",
    "@show p()\n",
    "@show q()\n",
    "\n",
    "@show MyTestModule1.z  # this is OK. If a name is qualified, then it can be accessed even if it is not exported.\n",
    "@show z;   # only exported names are visible"
   ]
  },
  {
   "cell_type": "code",
   "execution_count": 3,
   "metadata": {},
   "outputs": [
    {
     "name": "stdout",
     "output_type": "stream",
     "text": [
      "MyTestModule1.r() = 3\n"
     ]
    },
    {
     "ename": "UndefVarError",
     "evalue": "UndefVarError: r not defined",
     "output_type": "error",
     "traceback": [
      "UndefVarError: r not defined",
      "",
      "Stacktrace:",
      " [1] top-level scope at show.jl:555",
      " [2] top-level scope at In[3]:2"
     ]
    }
   ],
   "source": [
    "@show MyTestModule1.r()  # this is OK.  If a name is qualified, then it can be accessed even if it is not exported.\n",
    "@show r();  # only exported function is visible"
   ]
  },
  {
   "cell_type": "code",
   "execution_count": 4,
   "metadata": {},
   "outputs": [
    {
     "name": "stdout",
     "output_type": "stream",
     "text": [
      "MyTestModule1.z = 3\n",
      "MyTestModule1.r() = 3\n"
     ]
    }
   ],
   "source": [
    "import .MyTestModule1\n",
    "\n",
    "@show MyTestModule1.z\n",
    "@show MyTestModule1.r();"
   ]
  },
  {
   "cell_type": "markdown",
   "metadata": {},
   "source": [
    "## Module: `Main`, `Core`, and `Base`\n",
    "\n",
    "* _**`Main`**_: Julia starts with `Main` set as the current module.\n",
    "    * Variables defined at the prompt go in `Main`.\n",
    "    * `varinfo()` lists variables in `Main`.\n",
    "\n",
    "* _**`Core`**_: Contains all identifiers considered \"_**built in**_\" to the language\n",
    "    * `Core` includes part of the core language which are not libraries.\n",
    "    * _**Every module**_ implicitly specifies `using Core`.\n",
    "\n",
    "* _**`Base`**_: Contains basic functionality(the contents of [base/](https://github.com/JuliaLang/julia/tree/master/base)).\n",
    "    * _**All modules**_ implicitly contain `using Base`, since this is needed in the vast majority of cases.\n",
    "    \n",
    ">In addition to `using Base`, modules also _**automatically contain**_ definitions of the `eval` and `include` functions: see [bare modules](https://docs.julialang.org/en/v1/manual/modules/#Default-top-level-definitions-and-bare-modules-1)"
   ]
  },
  {
   "cell_type": "code",
   "execution_count": 6,
   "metadata": {},
   "outputs": [
    {
     "data": {
      "text/latex": [
       "\\begin{tabular}\n",
       "{l | r | l}\n",
       "name & size & summary \\\\\n",
       "\\hline\n",
       "Base &  & Module \\\\\n",
       "Core &  & Module \\\\\n",
       "Main &  & Module \\\\\n",
       "MyTestModule1 & 5.103 KiB & Module \\\\\n",
       "startupfile & 51 bytes & String \\\\\n",
       "\\end{tabular}\n"
      ],
      "text/markdown": [
       "| name          |      size | summary |\n",
       "|:------------- | ---------:|:------- |\n",
       "| Base          |           | Module  |\n",
       "| Core          |           | Module  |\n",
       "| Main          |           | Module  |\n",
       "| MyTestModule1 | 5.103 KiB | Module  |\n",
       "| startupfile   |  51 bytes | String  |\n"
      ],
      "text/plain": [
       "name               size summary\n",
       "––––––––––––– ––––––––– –––––––\n",
       "Base                    Module \n",
       "Core                    Module \n",
       "Main                    Module \n",
       "MyTestModule1 5.103 KiB Module \n",
       "startupfile    51 bytes String "
      ]
     },
     "execution_count": 6,
     "metadata": {},
     "output_type": "execute_result"
    }
   ],
   "source": [
    "varinfo()"
   ]
  },
  {
   "cell_type": "markdown",
   "metadata": {},
   "source": [
    "## Load a module\n",
    "\n",
    "Given the statement `using Foo`:\n",
    "1. the system consults _**an internal table of top-level modules**_ to look for one named `Foo`.\n",
    "1. If the module does not exist, the system attempts to `require(:Foo)`, which typically results in _**loading code from an installed package**_.\n",
    "\n",
    "\n",
    "### Add search path for loading modules\n",
    "\n",
    "When calling `require`, Julia searches for modules in directories specified by variable `LOAD_PATH` contains the directories.\n",
    "\n",
    "\n",
    "`LOAD_PATH` can be extended using `push!`\n",
    "    \n",
    "```julia\n",
    "push!(LOAD_PATH, \"/Path/To/My/Module/\")\n",
    "```\n",
    "        \n",
    "1. Put this statement in the file `~/.julia/config/startup.jl` which extends `LOAD_PATH` on every Julia startup.\n",
    "1. Define the environment variable `JULIA_LOAD_PATH`."
   ]
  },
  {
   "cell_type": "markdown",
   "metadata": {},
   "source": [
    "## `include` vs. `using` and `import`\n",
    "\n",
    "see [this discussion](https://discourse.julialang.org/t/difference-between-using-and-include/1739/2)\n",
    "\n",
    "* `include(\"file.jl\")` evaluate the contents of `file.jl` _**in the current context**_(the global scope of the current module when the evaluation takes place).\n",
    "* `include` _**is a function**_ that is typically used to load source interactively, or to combine files in packages that are broken into multiple source files.\n",
    "\n",
    ">Another use for the textual “include” in other languages is _**reuse of code blocks**_ in local contexts (where the Julia `include` function may do surprising things). A Julian pattern for this would use macros. A nice example is the @def macro used inside the DifferentialEquations.jl ecosystem. There, one includes a file containing @def macro definitions, the definitions are evaluated right then, and the macros are used to paste in blocks of code at parsing time."
   ]
  }
 ],
 "metadata": {
  "kernelspec": {
   "display_name": "Julia 1.1.0",
   "language": "julia",
   "name": "julia-1.1"
  },
  "language_info": {
   "file_extension": ".jl",
   "mimetype": "application/julia",
   "name": "julia",
   "version": "1.1.0"
  }
 },
 "nbformat": 4,
 "nbformat_minor": 2
}
