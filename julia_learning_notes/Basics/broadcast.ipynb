{
 "cells": [
  {
   "cell_type": "markdown",
   "metadata": {},
   "source": [
    "# [Broadcasting](https://docs.julialang.org/en/v1.0/manual/arrays/#Broadcasting-1)\n",
    "\n",
    "## 1. Basics\n",
    "1. Two ways to trigger `broadcast`?\n",
    "    1. an explicit call to [broadcast](https://docs.julialang.org/en/v1.0/base/arrays/#Base.Broadcast.broadcast) or [broadcast!](https://docs.julialang.org/en/v1.0/base/arrays/#Base.Broadcast.broadcast!)\n",
    "    1. implicitly by \"dot\" operations\n",
    "\n",
    "1. Who can be broadcasted and the result?\n",
    "\n",
    "    * Any object that has [axes](https://docs.julialang.org/en/v1.0/base/arrays/#Base.axes-Tuple{Any}) and supports indexing can participate as an argument in broadcasting\n",
    "    * by default _**the result is stored in an Array**_\n",
    "\n",
    "1. How to extend the broadcast interface?\n",
    "\n",
    "    in three major ways:\n",
    "    1. Ensuring that all arguments support broadcast\n",
    "        * types that support `axes` and `indexing`\n",
    "        * Not all types support axes and indexing,`Base.broadcastable` function is called on each argument to broadcast, allowing it to return something different that supports axes and indexing.\n",
    "    1. Selecting an appropriate output array for the given set of arguments: `BroadcastStyle`\n",
    "    1. Selecting an efficient implementation for the given set of arguments\n",
    "    \n",
    "## 2. Broadcast Styles\n",
    "\n",
    "* Broadcast must take all the varied types of its arguments and collapse them down to _**just one output array**_ and _**one implementation**_ which is called a \"style.\"\n",
    "* Every broadcastable object each has its own preferred style, and _**a promotion-like system**_ is used to combine these styles into a single answer: the \"destination style\".\n",
    "\n",
    ">When your broadcast operation involves several arguments, individual argument styles _**get combined to determine a single `DestStyle`**_ that controls the type of the output container.\n",
    "\n",
    "## 3. Selecting an appropriate output array\n",
    "\n",
    "* The broadcast style is computed for every broadcasting operation to allow for dispatch and specialization.\n",
    "* The actual allocation of the result array is _**handled by `similar`**_, using the _**Broadcasted**_ object as its first argument.\n",
    "\n",
    "## 4. [Customize broadcasting implementation](https://docs.julialang.org/en/v1.0/manual/interfaces/#extending-in-place-broadcast-1)\n",
    "\n",
    "In general:\n",
    "1. a broadcast operation is represented by _**a lazy Broadcasted container**_ that holds onto the function to be applied alongside its arguments.\n",
    "1. those arguments may themselves be more nested Broadcasted containers, forming _**a large expression tree**_ to be evaluated.\n",
    "\n",
    "A nested tree of _**Broadcasted containers**_ is directly constructed by the implicit dot syntax"
   ]
  },
  {
   "cell_type": "markdown",
   "metadata": {},
   "source": [
    "# Reference\n",
    "\n",
    "1. [How to customize the new broadcasting infrastructure in v0.7](https://discourse.julialang.org/t/how-to-customize-the-new-broadcasting-infrastructure-in-v0-7/11322/4)"
   ]
  }
 ],
 "metadata": {
  "kernelspec": {
   "display_name": "Julia 1.0.3",
   "language": "julia",
   "name": "julia-1.0"
  },
  "language_info": {
   "file_extension": ".jl",
   "mimetype": "application/julia",
   "name": "julia",
   "version": "1.0.3"
  }
 },
 "nbformat": 4,
 "nbformat_minor": 2
}
