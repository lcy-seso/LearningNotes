{
 "cells": [
  {
   "cell_type": "markdown",
   "metadata": {},
   "source": [
    "### Julia arrays are not copied when assigned to another variable. After `A = B`, changing elements of `B` will modify `A` as well."
   ]
  },
  {
   "cell_type": "code",
   "execution_count": 11,
   "metadata": {},
   "outputs": [
    {
     "name": "stdout",
     "output_type": "stream",
     "text": [
      "A = randn(2, 2) = [-0.707163 1.8556; -1.15064 -0.561265]\n",
      "B = [0.292837 1.8556; -1.15064 -0.561265]\n",
      "A = [0.292837 1.8556; -1.15064 -0.561265]\n"
     ]
    }
   ],
   "source": [
    "@show A = randn(2, 2)\n",
    "B = A  # B is not a new copy of A, modify B will also modify A.\n",
    "B[1, 1] += 1\n",
    "@show B\n",
    "@show A;"
   ]
  },
  {
   "cell_type": "markdown",
   "metadata": {},
   "source": [
    "### Updating operators like `+=` do not operate in-place, they are equivalent to `A = A + B` which _**rebinds**_ the left-hand side to the result of the right-hand side expression."
   ]
  },
  {
   "cell_type": "code",
   "execution_count": 12,
   "metadata": {},
   "outputs": [
    {
     "name": "stdout",
     "output_type": "stream",
     "text": [
      "A = [0.292837 1.8556; -1.15064 -0.561265]\n",
      "B = [1.29284 2.8556; -0.150644 0.438735]\n"
     ]
    }
   ],
   "source": [
    "B += ones(2, 2)  # += is not in-place, this will cause re-binds B to a new variable.\n",
    "@show A\n",
    "@show B;"
   ]
  },
  {
   "cell_type": "markdown",
   "metadata": {},
   "source": [
    "### Julia does not treat the numbers `0` and `1` as `Booleans`.\n",
    "You **CANNOT** write `if (1)` in Julia, because `if` statements accept *ONLY* booleans. Instead, you can write `if true`, `if Bool(1)`, or `if 1==1`."
   ]
  },
  {
   "cell_type": "code",
   "execution_count": 2,
   "metadata": {},
   "outputs": [
    {
     "ename": "TypeError",
     "evalue": "TypeError: non-boolean (Int64) used in boolean context",
     "output_type": "error",
     "traceback": [
      "TypeError: non-boolean (Int64) used in boolean context",
      "",
      "Stacktrace:",
      " [1] top-level scope at In[2]:1"
     ]
    }
   ],
   "source": [
    "if 1\n",
    "end"
   ]
  },
  {
   "cell_type": "markdown",
   "metadata": {},
   "source": [
    "### Unexpected memory allocation is almost always a sign of some problem with your code. Take such indications seriously.\n",
    "\n",
    "1. Unexpected memory is usually a problem with type-stability or creating many small temporary arrays.\n",
    "1. In addition to the allocation itself, it's _**very likely that the code generated for your function is far from optimal**_."
   ]
  },
  {
   "cell_type": "code",
   "execution_count": 21,
   "metadata": {},
   "outputs": [
    {
     "name": "stdout",
     "output_type": "stream",
     "text": [
      "  0.006590 seconds (5.67 k allocations: 177.454 KiB)\n",
      "  0.000149 seconds (3.49 k allocations: 70.313 KiB)\n"
     ]
    }
   ],
   "source": [
    "x = rand(1000)\n",
    "\n",
    "function sum()\n",
    "    s = 0\n",
    "    for i in x\n",
    "        s += i\n",
    "    end\n",
    "    return s\n",
    "end\n",
    "@time sum()\n",
    "@time sum();  # Pay attention to allocation information!"
   ]
  },
  {
   "cell_type": "code",
   "execution_count": 22,
   "metadata": {},
   "outputs": [
    {
     "name": "stdout",
     "output_type": "stream",
     "text": [
      "  0.015741 seconds (14.77 k allocations: 779.980 KiB)\n",
      "  0.000004 seconds (5 allocations: 176 bytes)\n"
     ]
    }
   ],
   "source": [
    "function sum2(x)\n",
    "    s = 0\n",
    "    for i in x\n",
    "        s += i\n",
    "    end\n",
    "    return s\n",
    "end\n",
    "\n",
    "@time sum2(x)  # On the first call this function gets compiled. \n",
    "@time sum2(x);"
   ]
  },
  {
   "cell_type": "code",
   "execution_count": 26,
   "metadata": {},
   "outputs": [
    {
     "name": "stdout",
     "output_type": "stream",
     "text": [
      "  0.000005 seconds (1 allocation: 16 bytes)\n"
     ]
    },
    {
     "data": {
      "text/plain": [
       "492.19434340617073"
      ]
     },
     "execution_count": 26,
     "metadata": {},
     "output_type": "execute_result"
    }
   ],
   "source": [
    "function test()\n",
    "  @time sum2(x)\n",
    "end\n",
    "\n",
    "test()  # very few memory allocation leading to much faster."
   ]
  },
  {
   "cell_type": "markdown",
   "metadata": {},
   "source": [
    "### Combinatorial explosion of types will be counterproductive\n",
    "\n",
    "If `items[i+1]` has a different type than `item[i]`, Julia has to:\n",
    "1. look up the type at run-time;\n",
    "1. search for the appropriate method in method tables;\n",
    "1. decide (via type intersection) which one matches;\n",
    "1. determine whether it has been JIT-compiled yet (and do so if not);\n",
    "1. and then make the call.\n",
    "\n",
    "From Julia's doc:\n",
    "> In essence, you're asking the full type-system and JIT-compilation machinery to basically execute the equivalent of a switch statement or dictionary lookup in your own code. Some run-time benchmarks comparing (1) type dispatch, (2) dictionary lookup, and (3) a \"switch\" statement can be found on the [mailing list](https://groups.google.com/forum/#!msg/julia-users/jUMu9A3QKQQ/qjgVWr7vAwAJ)."
   ]
  },
  {
   "cell_type": "markdown",
   "metadata": {},
   "source": [
    "### Julia's compiler specializes code for argument types at function boundaries."
   ]
  }
 ],
 "metadata": {
  "kernelspec": {
   "display_name": "Julia 1.1.0",
   "language": "julia",
   "name": "julia-1.1"
  },
  "language_info": {
   "file_extension": ".jl",
   "mimetype": "application/julia",
   "name": "julia",
   "version": "1.1.0"
  }
 },
 "nbformat": 4,
 "nbformat_minor": 2
}
