{
 "cells": [
  {
   "cell_type": "markdown",
   "metadata": {},
   "source": [
    "# Types\n",
    "\n",
    "1. **Static type systems**\n",
    "    - Every program expression must have a type computable before the execution of the program.\n",
    "1. **Dynamic type systems**\n",
    "    - Nothing is known about types until run time when the actual values manipulated by the program are available.\n",
    "    \n",
    "    >*So, what roles type play at the compile time in Julia?*\n",
    "    \n",
    "**Polymorphism**: the ability to write code that can operate on different types.\n",
    "\n",
    "## Julia's Type system: _**Dynamic**_, _**Nominative**_ and _**Parametric**_\n",
    "\n",
    "- Some references:\n",
    "    - [Nominative And Structural Typing](http://wiki.c2.com/?NominativeAndStructuralTyping)\n",
    "    - [Type system](https://en.wikipedia.org/wiki/Type_system)\n",
    "\n",
    "**Julia's type system is dynamic, but it possible to indicate that certain values are of specific types.**\n",
    "\n",
    "- Default behavior when types are omitted: allow values to be of any type.\n",
    "- Adding annotations serves three primary purposes:\n",
    "    1. to take advantage of Julia's multiple-dispatch mechanism\n",
    "    1. to improve human readability\n",
    "    1. to catch programmer errors\n",
    "\n",
    "Benefits of Julia's type system design:\n",
    "\n",
    "1. Great assistance in generating efficient code.\n",
    "1. [_**more significantly**_ ??] Allows method dispatch on the types of function arguments to be deeply integrated with the language.\n",
    "    - Method dispatch is rooted in the type system presented here.\n",
    "    \n",
    "### Notes (and how to understand these concretely?)\n",
    "\n",
    "1. All values in Julia are **true objects** having a type that belongs to a single, fully connected type graph, all nodes of which are equally first-class as types.\n",
    "\n",
    "   > In mainstream object oriented languages, such as C++, Java, Python and Ruby, [composite types](https://en.wikipedia.org/wiki/Composite_data_type) also have named functions associated with them, and the combination is called an \"object\".\n",
    "\n",
    "1. There is no meaningful concept of a \"compile-time type\": the **only type** a value has is its actual _**type when the program is running**_.\n",
    "\n",
    "    - _**So how to understand \"type\" in static analysis (before codes are compiled), and what role it plays before codes are compiled? Maybe have something to do with multiple dispatch?**_\n",
    "\n",
    "1. Only values, not variables, have types – variables are simply names bound to values.\n",
    "1. Both abstract and concrete types can be parameterized by symbols, by values of any type for which `isbits` returns true."
   ]
  },
  {
   "cell_type": "markdown",
   "metadata": {},
   "source": [
    "## Type Declarations\n",
    "\n",
    "The `::` operator can be used to attach type annotations to _**expressions**_ and variables in programs. \n",
    "\n",
    "- When appended to an expression computing a value, the `::` operator is read as \"is an instance of\". \n",
    "\n",
    "## Special Types\n",
    "\n",
    "### 1. _Abstract type: Type Union_\n",
    "\n",
    "- A type union is a special abstract type.\n",
    "- Type union is constructed using the special `Union` keyword.\n",
    "\n",
    "    ```julia\n",
    "    IntOrString = Union{Int, AbstractString}\n",
    "    ```\n",
    "- Type union has parameters. It is a type includes all instances of any of its argument types.\n",
    "\n",
    "_**Why Union type?**_\n",
    "\n",
    "- The compilers for many languages have an internal union construct for reasoning about types; Julia simply exposes it to the programmer.\n",
    "- The Julia compiler is able to generate efficient code in the presence of Union types with a small number of types.\n",
    "\n",
    "#### Related keywords or built-in types\n",
    "\n",
    "- 1.1 [Core.Union](https://docs.julialang.org/en/v1/base/base/#Core.Union) _- Type_\n",
    "\n",
    "    A type union is an _**abstract type**_ which includes all instances of any of its argument types. The empty union `Union{}` is _**the bottom type of Julia**_.\n",
    "\n",
    "- 1.2 [where](https://docs.julialang.org/en/v1/base/base/#where)\n",
    "\n",
    "    >Their issue: https://github.com/JuliaLang/julia/issues/20337\n",
    "\n",
    "    The `where` keyword creates a type that is an iterated union of other types, over all values of some variable. "
   ]
  },
  {
   "cell_type": "code",
   "execution_count": 7,
   "metadata": {},
   "outputs": [
    {
     "data": {
      "text/plain": [
       "Array{T,1} where T<:Real"
      ]
     },
     "execution_count": 7,
     "metadata": {},
     "output_type": "execute_result"
    }
   ],
   "source": [
    "Vector{T} where T <: Real"
   ]
  },
  {
   "cell_type": "markdown",
   "metadata": {},
   "source": [
    "### 2. Tuple\n",
    "\n",
    "- Tuples are an abstraction of _**the arguments of a function**_ – without the function itself.\n",
    "- The salient aspects of a function's arguments are _**their order and their types**_.\n",
    "    - A tuple type is similar to _**a parameterized immutable type**_ where each parameter is the type of one field.\n",
    "    - Tuple types may have any number of parameters.\n",
    "\n",
    "**Tuple types are [covariant](https://en.wikipedia.org/wiki/Covariance_and_contravariance_(computer_science)) in their parameters**:\n",
    "- `Tuple{Int}` is a subtype of `Tuple{Any}`. `Tuple{Any}` is considered an abstract type.\n",
    "- Tuple types are only concrete if their parameters are.\n",
    "- Tuples **do not** have field names; fields are **only accessed** by index.\n",
    "\n",
    "\n",
    "In composite type, This last point is very important: even though Float64 <: Real we DO NOT have Point{Float64} <: Point{Real}."
   ]
  },
  {
   "cell_type": "code",
   "execution_count": 15,
   "metadata": {},
   "outputs": [
    {
     "name": "stdout",
     "output_type": "stream",
     "text": [
      "Float64 <: Real = true\n",
      "Point{Float64} <: Point{Real} = false\n",
      "b <: a = true\n"
     ]
    }
   ],
   "source": [
    "@show Float64 <: Real\n",
    "\n",
    "struct Point{T}\n",
    "  x::T\n",
    "end\n",
    "@show Point{Float64} <: Point{Real}\n",
    "\n",
    "a = Tuple{Real}\n",
    "b = Tuple{Float64}\n",
    "@show b <: a;"
   ]
  },
  {
   "cell_type": "markdown",
   "metadata": {},
   "source": [
    "### 3. [Singleton Type](https://docs.julialang.org/en/v1/manual/types/#man-singleton-types-1)\n",
    "\n",
    "- For each type, `T`, the \"singleton type\" `Type{T}` is an **abstract type** whose only instance is the object `T`.\n",
    "- Without the parameter, `Type` is simply an abstract type which has **all type objects** as its instances, including, of course, singleton types."
   ]
  },
  {
   "cell_type": "code",
   "execution_count": 22,
   "metadata": {},
   "outputs": [
    {
     "name": "stdout",
     "output_type": "stream",
     "text": [
      "Float32 <: Type = false\n",
      "Type <: Type = true\n",
      "Float32 isa Type = true\n"
     ]
    }
   ],
   "source": [
    "@show Float32 <: Type\n",
    "@show Type <: Type    # except Type, no other type subtype the singleton `Type`. \n",
    "@show isa(Float32, Type);"
   ]
  },
  {
   "cell_type": "markdown",
   "metadata": {},
   "source": [
    "## Commposite Types\n",
    "\n",
    "Composite objects declared with struct are _**immutable**_; they cannot be modified after construction."
   ]
  },
  {
   "cell_type": "code",
   "execution_count": 43,
   "metadata": {},
   "outputs": [
    {
     "name": "stdout",
     "output_type": "stream",
     "text": [
      "typeof(test) = TestType1\n",
      "test.a = 5\n",
      "test.b = 5.5f0\n"
     ]
    }
   ],
   "source": [
    "struct TestType1\n",
    "    a::Int32\n",
    "    b::Float32\n",
    "end\n",
    "\n",
    "test = TestType1(5, 5.5)\n",
    "@show typeof(test)\n",
    "@show test.a\n",
    "@show test.b;"
   ]
  },
  {
   "cell_type": "code",
   "execution_count": 44,
   "metadata": {},
   "outputs": [
    {
     "ename": "ErrorException",
     "evalue": "type TestType1 is immutable",
     "output_type": "error",
     "traceback": [
      "type TestType1 is immutable",
      "",
      "Stacktrace:",
      " [1] setproperty!(::TestType1, ::Symbol, ::Int64) at ./sysimg.jl:19",
      " [2] top-level scope at In[44]:1"
     ]
    }
   ],
   "source": [
    "# after test is constructed, it cannot be modified.\n",
    "# this will cause an error.\n",
    "test.a = 6"
   ]
  },
  {
   "cell_type": "code",
   "execution_count": 2,
   "metadata": {},
   "outputs": [
    {
     "data": {
      "text/plain": [
       "TestType2(Int32[1, 2])"
      ]
     },
     "execution_count": 2,
     "metadata": {},
     "output_type": "execute_result"
    }
   ],
   "source": [
    "struct TestType2\n",
    "  a::Array{Int32, 1}  # Array is a mutable type.\n",
    "end\n",
    "\n",
    "test2 = TestType2([1, 2])"
   ]
  },
  {
   "cell_type": "code",
   "execution_count": 4,
   "metadata": {},
   "outputs": [
    {
     "ename": "ErrorException",
     "evalue": "type TestType2 is immutable",
     "output_type": "error",
     "traceback": [
      "type TestType2 is immutable",
      "",
      "Stacktrace:",
      " [1] setproperty!(::TestType2, ::Symbol, ::Array{Int64,1}) at ./sysimg.jl:19",
      " [2] top-level scope at In[4]:1"
     ]
    }
   ],
   "source": [
    "# for fields whose values are mutable types like arrays\n",
    "# the fields will always refer to the same mutable value even though that mutable value's content may itself be modified.\n",
    "test2.a = [3, 4]"
   ]
  },
  {
   "cell_type": "markdown",
   "metadata": {},
   "source": [
    "**Mutable values are heap-allocated and passed to functions as pointers to heap-allocated values except in cases where the compiler is sure that there's no way to tell that this is not what is happening**."
   ]
  },
  {
   "cell_type": "markdown",
   "metadata": {},
   "source": [
    "## Types Internals\n",
    "\n",
    "1. _**Types are regular objects at runtime**_, that are internally represented as instances of the same concept called `DataType`.\n",
    "1. `DataType` is the type of any of abstract, primitive and composite type.\n",
    "    - A `DataType` may be abstract or concrete.\n",
    "        - If it is concrete, it has a specified size, storage layout, and (optionally) field names.\n",
    "        - A primitive type is a `DataType` with nonzero size, but no field names.\n",
    "        - A composite type is a `DataType` that has field names or is empty (zero size).\n",
    "1. Every concrete value in the system is an instance of some `DataType`."
   ]
  },
  {
   "cell_type": "code",
   "execution_count": 35,
   "metadata": {},
   "outputs": [
    {
     "name": "stdout",
     "output_type": "stream",
     "text": [
      "typeof(Int) = DataType\n",
      "typeof(Real) = DataType\n",
      "typeof(A) = DataType\n"
     ]
    }
   ],
   "source": [
    "@show typeof(Int)\n",
    "@show typeof(Real)\n",
    "\n",
    "struct A\n",
    "    a\n",
    "end\n",
    "@show typeof(A);"
   ]
  },
  {
   "cell_type": "markdown",
   "metadata": {},
   "source": [
    "## _**Dynamic**_\n",
    "\n",
    "In a dynamic language:\n",
    "1. **types exist at runtime**\n",
    "1. **type information can be manipulated and introspected at runtime** with the same syntax as everything else is. "
   ]
  },
  {
   "cell_type": "code",
   "execution_count": 17,
   "metadata": {},
   "outputs": [
    {
     "data": {
      "text/plain": [
       "3-element Array{DataType,1}:\n",
       " Int64  \n",
       " Float32\n",
       " Bool   "
      ]
     },
     "execution_count": 17,
     "metadata": {},
     "output_type": "execute_result"
    }
   ],
   "source": [
    "mytypes = [Int, Float32, Bool]  # Types are regular objects at runtime! We can put them into a list."
   ]
  },
  {
   "cell_type": "code",
   "execution_count": 21,
   "metadata": {},
   "outputs": [
    {
     "name": "stdout",
     "output_type": "stream",
     "text": [
      "MyType <: Any\n",
      "  t1::Signed\n",
      "  t2::Int64\n",
      "  t3::Float32\n"
     ]
    }
   ],
   "source": [
    "a = 15\n",
    "\n",
    "mutable struct MyType\n",
    "    t1 :: supertype(Int)\n",
    "    t2 :: (a > 5 ? typeof(a) : Float64)\n",
    "    t3 :: mytypes[2]\n",
    "end\n",
    "\n",
    "dump(MyType)"
   ]
  },
  {
   "cell_type": "markdown",
   "metadata": {},
   "source": [
    "### Notes about Julia's dynamics\n",
    "\n",
    "_**Functions don’t really exist in dynamic languages at the point where they are run**:_\n",
    "- It is at runtime when the program encounters a function definition that the code for it is actually created. In Julia’s case, it is really just **a sort of code template** which is created.\n",
    "- At the time when **calling the function with arguments of specific types**, Julia will:\n",
    "    1. **specialize the function**.\n",
    "    1. have the JIT emit machine code specifically tailored to those particular function arguments.\n",
    "\n",
    "\n",
    "- There is **no clear distinction between compile time and runtime**.\n",
    "- **Functions are compiled as they are encountered at runtime**.\n",
    "- _**Statically typed languages care about the type of expressions**_ while _**dynamically typed languages care about the types of values**_. \n",
    "\n",
    "## Nominative\n",
    "\n",
    "- When declaring a new type, the type name can be optionally followed by `<:` and an already-existing type, indicating that the newly declared abstract type is a subtype of this \"parent\" type.\n",
    "- By default, a new decleared type is the subtype of `Any`."
   ]
  },
  {
   "cell_type": "markdown",
   "metadata": {},
   "source": [
    "## Parameteric\n",
    "\n",
    "References about [Parametric Polymorphism](https://en.wikipedia.org/wiki/Polymorphism_(computer_science))\n",
    "\n",
    ">_**Parametric polymorphism**_ allows a function or a data type to be written generically, so that it can handle values uniformly without depending on their type.\n",
    ">_**Parametric polymorphism is a way to make a language more expressive while still maintaining full static type-safety**_.\n",
    "\n",
    "- Types can take parameters, so that type declarations actually _**introduce a whole family**_ of new types: one for each possible combination of parameter values. \n",
    "\n",
    "## Reference\n",
    "\n",
    "1. [Types in C/C++ and Julia](https://medium.com/@Jernfrost/types-in-c-c-and-julia-ce0fcbe0dec6)"
   ]
  }
 ],
 "metadata": {
  "kernelspec": {
   "display_name": "Julia 1.0.3",
   "language": "julia",
   "name": "julia-1.0"
  },
  "language_info": {
   "file_extension": ".jl",
   "mimetype": "application/julia",
   "name": "julia",
   "version": "1.0.3"
  }
 },
 "nbformat": 4,
 "nbformat_minor": 2
}
