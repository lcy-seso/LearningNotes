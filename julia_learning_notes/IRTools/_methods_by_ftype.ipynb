{
 "cells": [
  {
   "cell_type": "markdown",
   "metadata": {},
   "source": [
    "### [`_methods_by_ftype`](https://github.com/JuliaLang/julia/blob/0bb0332aa41bf02673548cc10fbefa5f9e4d4614/src/gf.c#L1802)\n",
    "\n",
    "\n",
    "return a `Vector{Any}` of `svecs`, each describing a method match: `Any[svec(tt, spvals, m), ...]`\n",
    "\n",
    "- `tt` is the intersection of the type argument and the method signature,\n",
    "- `spvals` is any matched static parameter values, m is the Method,\n",
    "- `lim` is the max # of methods to return. if there are more, returns `jl_false`. -1 for no limit."
   ]
  },
  {
   "cell_type": "code",
   "execution_count": 6,
   "metadata": {},
   "outputs": [
    {
     "data": {
      "text/plain": [
       "MethodInstance for f22938(::Int64, ::Int64, ::Int64, ::Int64)"
      ]
     },
     "execution_count": 6,
     "metadata": {},
     "output_type": "execute_result"
    }
   ],
   "source": [
    "# https://github.com/JuliaLang/julia/blob/80820acf3ec3cd4314210f667f7ec63d775a1d88/test/compiler/validation.jl\n",
    "\n",
    "function f22938(a, b, x...)\n",
    "    nothing\n",
    "    nothing\n",
    "    nothing\n",
    "    nothing\n",
    "    nothing\n",
    "    nothing\n",
    "    nothing\n",
    "    d = 1\n",
    "    a = d\n",
    "    for i in 1:b\n",
    "        d += i\n",
    "    end\n",
    "    return i * a\n",
    "end\n",
    "\n",
    "msig = Tuple{typeof(f22938),Int,Int,Int,Int}\n",
    "world = typemax(UInt)\n",
    "\n",
    "_, msp, m = Base._methods_by_ftype(msig, -1, world)[]\n",
    "\n",
    "mi = Core.Compiler.code_for_method(m, msig, msp, world, false)\n",
    "# c0 = Core.Compiler.retrieve_code_info(mi)\n",
    "\n",
    "# Core.Compiler.validate_code(mi)"
   ]
  },
  {
   "cell_type": "code",
   "execution_count": null,
   "metadata": {},
   "outputs": [],
   "source": [
    "### code_for_method"
   ]
  }
 ],
 "metadata": {
  "kernelspec": {
   "display_name": "Julia 1.0.0",
   "language": "julia",
   "name": "julia-1.0"
  },
  "language_info": {
   "file_extension": ".jl",
   "mimetype": "application/julia",
   "name": "julia",
   "version": "1.0.0"
  }
 },
 "nbformat": 4,
 "nbformat_minor": 2
}
