{
 "cells": [
  {
   "cell_type": "code",
   "execution_count": 1,
   "metadata": {},
   "outputs": [
    {
     "name": "stdout",
     "output_type": "stream",
     "text": [
      "IRTools.Meta <: Any\n",
      "  method::Method\n",
      "  code::Core.CodeInfo\n",
      "  sparams::Any\n"
     ]
    },
    {
     "data": {
      "text/plain": [
       "worldcounter (generic function with 1 method)"
      ]
     },
     "execution_count": 1,
     "metadata": {},
     "output_type": "execute_result"
    }
   ],
   "source": [
    "using IRTools\n",
    "\n",
    "dump(IRTools.Meta)\n",
    "worldcounter() = ccall(:jl_get_world_counter, UInt, ())"
   ]
  },
  {
   "cell_type": "code",
   "execution_count": 2,
   "metadata": {},
   "outputs": [
    {
     "data": {
      "text/plain": [
       "3-element Array{Float64,1}:\n",
       " 0.5\n",
       " 1.0\n",
       " 1.5"
      ]
     },
     "execution_count": 2,
     "metadata": {},
     "output_type": "execute_result"
    }
   ],
   "source": [
    "mytest(x, y) = x .* y\n",
    "\n",
    "v = mytest([1., 2., 3.], [0.5, 0.5, 0.5])"
   ]
  },
  {
   "cell_type": "code",
   "execution_count": 6,
   "metadata": {},
   "outputs": [
    {
     "name": "stdout",
     "output_type": "stream",
     "text": [
      "mytest(x, y) in Main at In[2]:1\n",
      "CodeInfo(\n",
      "\u001b[90m\u001b[77G│\u001b[1G\u001b[39m\u001b[90m1 \u001b[39m1 ─ %1 = Base.Broadcast.materialize\n",
      "\u001b[90m\u001b[77G│\u001b[1G\u001b[39m\u001b[90m  \u001b[39m│   %2 = Base.Broadcast.broadcasted\n",
      "\u001b[90m\u001b[77G│\u001b[1G\u001b[39m\u001b[90m  \u001b[39m│   %3 = (%2)(Main.:*, x, y)\n",
      "\u001b[90m\u001b[77G│\u001b[1G\u001b[39m\u001b[90m  \u001b[39m│   %4 = (%1)(%3)\n",
      "\u001b[90m\u001b[77G│\u001b[1G\u001b[39m\u001b[90m  \u001b[39m└──      return %4\n",
      ")\n",
      "svec()\n"
     ]
    }
   ],
   "source": [
    "meta = IRTools.meta(Tuple{typeof(mytest), Int, Int})\n",
    "\n",
    "println(meta.method)\n",
    "println(meta.code)\n",
    "println(meta.sparams)"
   ]
  }
 ],
 "metadata": {
  "kernelspec": {
   "display_name": "Julia 1.0.0",
   "language": "julia",
   "name": "julia-1.0"
  },
  "language_info": {
   "file_extension": ".jl",
   "mimetype": "application/julia",
   "name": "julia",
   "version": "1.0.0"
  }
 },
 "nbformat": 4,
 "nbformat_minor": 2
}
