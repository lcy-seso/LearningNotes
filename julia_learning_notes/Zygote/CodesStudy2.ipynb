{
 "cells": [
  {
   "cell_type": "code",
   "execution_count": 19,
   "metadata": {},
   "outputs": [
    {
     "data": {
      "text/plain": [
       "(([4, 5, 6], [1, 2, 3]), getfield(Zygote, Symbol(\"##66#67\")){Zygote.Pullback{Tuple{getfield(Main, Symbol(\"##21#22\")),Array{Int64,1},Array{Int64,1}},Tuple{getfield(Zygote, Symbol(\"##2070#back#842\")){getfield(Zygote, Symbol(\"##840#841\"))},getfield(Zygote, Symbol(\"##2082#back#846\")){getfield(Zygote, Symbol(\"##844#845\")){Base.Broadcast.Broadcasted{Base.Broadcast.DefaultArrayStyle{1},Nothing,typeof(*),Tuple{Array{Int64,1},Array{Int64,1}}},getfield(Zygote, Symbol(\"#back#834\")){Base.Broadcast.Broadcasted{Base.Broadcast.DefaultArrayStyle{1},Tuple{Base.OneTo{Int64}},getfield(Zygote, Symbol(\"##819#822\")){typeof(*)},Tuple{Array{Int64,1},Array{Int64,1}}},Tuple{Array{Int64,1},Array{Int64,1}}}}},getfield(Zygote, Symbol(\"##1886#back#734\")){getfield(Zygote, Symbol(\"##730#732\")){Array{Int64,1}}}}}}(J#getfield(Main, Symbol(\"##21#22\"))(...)))"
      ]
     },
     "execution_count": 19,
     "metadata": {},
     "output_type": "execute_result"
    }
   ],
   "source": [
    "using Zygote\n",
    "\n",
    "g, _ = gradient((x, y) -> sum(x .* y), [1, 2, 3], [4, 5, 6])"
   ]
  },
  {
   "cell_type": "markdown",
   "metadata": {},
   "source": [
    "1. [gradient](https://github.com/FluxML/Zygote.jl/blob/master/src/compiler/interface.jl#L41) in `compiler/interface.jl`\n",
    "1. [forward](https://github.com/FluxML/Zygote.jl/blob/master/src/compiler/interface.jl#L36) in `compiler/interface.jl`\n",
    "1. [_forward](https://github.com/FluxML/Zygote.jl/blob/master/src/compiler/interface.jl#L31) in `compiler/interface.jl`\n",
    "1. [_forward](https://github.com/FluxML/Zygote.jl/blob/master/src/compiler/interface2.jl#L3) in `compiler/interface.jl`.\n",
    "    - This is a [Generated Function](https://github.com/lcy-seso/dl_framework/blob/master/Julia/notes/Generated_function.ipynb). See the below cell for its implementation."
   ]
  },
  {
   "cell_type": "code",
   "execution_count": null,
   "metadata": {},
   "outputs": [],
   "source": [
    "@generated function _forward(ctx::Context, f, args...)\n",
    "  T = Tuple{f,args...}    # in tuple T, f is the type of user-defined forward function\n",
    "                          # args are types of input arguments of f\n",
    "\n",
    "  ignore(T) && return :(f(args...), Pullback{$T}(()))\n",
    "  g = try _lookup_grad(T) catch e e end\n",
    "  !(g isa Tuple) && return :(f(args...), Pullback{$T}((f,)))\n",
    "  meta, forw, _ = g\n",
    "  argnames!(meta, Symbol(\"#self#\"), :ctx, :f, :args)\n",
    "  forw = varargs!(meta, forw, 3)\n",
    "  forw = slots!(pis!(inlineable!(forw)))\n",
    "  return IRTools.update!(meta, forw)\n",
    "end"
   ]
  },
  {
   "cell_type": "markdown",
   "metadata": {},
   "source": [
    "Let's dive into the above implementation.\n",
    "\n",
    "Notes for the input parameters:\n",
    "\n",
    "1. `f` is the user-defined forward function.\n",
    "    - **in a generated function, `f` here is the type of of forward functoin**.\n",
    "    - [**In Julia version 0.5 and later, each function is a singleton instance of a singleton type!**](https://riptutorial.com/julia-lang/example/22879/immutable-types)\n",
    "        - Like any other singleton value, we can recover the function sin, for example, from typeof(sin).instance.\n",
    "    - `args` are arguments passed to the forward function."
   ]
  },
  {
   "cell_type": "code",
   "execution_count": 31,
   "metadata": {},
   "outputs": [
    {
     "name": "stdout",
     "output_type": "stream",
     "text": [
      "(typeof(sin)).instance = sin\n"
     ]
    },
    {
     "data": {
      "text/plain": [
       "svec()"
      ]
     },
     "execution_count": 31,
     "metadata": {},
     "output_type": "execute_result"
    }
   ],
   "source": [
    "@show typeof(sin).instance  # X.instance canbe used to access the singleton instance,\n",
    "typeof(sin).parameters    # See this doc: https://docs.julialang.org/en/v1/devdocs/types/#Tuple-types-1"
   ]
  },
  {
   "cell_type": "markdown",
   "metadata": {},
   "source": [
    "Let's see the implementation of `ignore`:\n",
    "```julia\n",
    "ignore(T) = all(T -> T <: Type, T.parameters)\n",
    "```"
   ]
  }
 ],
 "metadata": {
  "kernelspec": {
   "display_name": "Julia 1.0.0",
   "language": "julia",
   "name": "julia-1.0"
  },
  "language_info": {
   "file_extension": ".jl",
   "mimetype": "application/julia",
   "name": "julia",
   "version": "1.0.0"
  }
 },
 "nbformat": 4,
 "nbformat_minor": 2
}
