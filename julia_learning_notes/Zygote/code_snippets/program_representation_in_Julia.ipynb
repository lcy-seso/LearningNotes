{
 "cells": [
  {
   "cell_type": "code",
   "execution_count": 30,
   "metadata": {},
   "outputs": [
    {
     "data": {
      "text/plain": [
       "CodeInfo(\n",
       "\u001b[90m1 ──\u001b[39m %1  = (Base.sle_int)(x, 0)\u001b[36m::Bool\u001b[39m\n",
       "\u001b[90m└───\u001b[39m       goto #3 if not %1\n",
       "\u001b[90m2 ──\u001b[39m       return 0\n",
       "\u001b[90m3 ──\u001b[39m %4  = (x === 1)\u001b[36m::Bool\u001b[39m\n",
       "\u001b[90m└───\u001b[39m       goto #5 if not %4\n",
       "\u001b[90m4 ──\u001b[39m       return 1\n",
       "\u001b[90m5 ──\u001b[39m %7  = (Base.sub_int)(x, 1)\u001b[36m::Int64\u001b[39m\n",
       "\u001b[90m│   \u001b[39m %8  = (Base.sle_int)(%7, 0)\u001b[36m::Bool\u001b[39m\n",
       "\u001b[90m└───\u001b[39m       goto #7 if not %8\n",
       "\u001b[90m6 ──\u001b[39m       goto #10\n",
       "\u001b[90m7 ──\u001b[39m %11 = (%7 === 1)\u001b[36m::Bool\u001b[39m\n",
       "\u001b[90m└───\u001b[39m       goto #9 if not %11\n",
       "\u001b[90m8 ──\u001b[39m       goto #10\n",
       "\u001b[90m9 ──\u001b[39m %14 = (Base.sub_int)(%7, 1)\u001b[36m::Int64\u001b[39m\n",
       "\u001b[90m│   \u001b[39m %15 = invoke Main.Fibonacci(%14::Int64)\u001b[36m::Int64\u001b[39m\n",
       "\u001b[90m│   \u001b[39m %16 = (Base.sub_int)(%7, 2)\u001b[36m::Int64\u001b[39m\n",
       "\u001b[90m│   \u001b[39m %17 = invoke Main.Fibonacci(%16::Int64)\u001b[36m::Int64\u001b[39m\n",
       "\u001b[90m│   \u001b[39m %18 = (Base.add_int)(%15, %17)\u001b[36m::Int64\u001b[39m\n",
       "\u001b[90m└───\u001b[39m       goto #10\n",
       "\u001b[90m10 ┄\u001b[39m %20 = φ (#6 => 0, #8 => 1, #9 => %18)\u001b[36m::Int64\u001b[39m\n",
       "\u001b[90m│   \u001b[39m %21 = (Base.sub_int)(x, 2)\u001b[36m::Int64\u001b[39m\n",
       "\u001b[90m│   \u001b[39m %22 = (Base.sle_int)(%21, 0)\u001b[36m::Bool\u001b[39m\n",
       "\u001b[90m└───\u001b[39m       goto #12 if not %22\n",
       "\u001b[90m11 ─\u001b[39m       goto #15\n",
       "\u001b[90m12 ─\u001b[39m %25 = (%21 === 1)\u001b[36m::Bool\u001b[39m\n",
       "\u001b[90m└───\u001b[39m       goto #14 if not %25\n",
       "\u001b[90m13 ─\u001b[39m       goto #15\n",
       "\u001b[90m14 ─\u001b[39m %28 = (Base.sub_int)(%21, 1)\u001b[36m::Int64\u001b[39m\n",
       "\u001b[90m│   \u001b[39m %29 = invoke Main.Fibonacci(%28::Int64)\u001b[36m::Int64\u001b[39m\n",
       "\u001b[90m│   \u001b[39m %30 = (Base.sub_int)(%21, 2)\u001b[36m::Int64\u001b[39m\n",
       "\u001b[90m│   \u001b[39m %31 = invoke Main.Fibonacci(%30::Int64)\u001b[36m::Int64\u001b[39m\n",
       "\u001b[90m│   \u001b[39m %32 = (Base.add_int)(%29, %31)\u001b[36m::Int64\u001b[39m\n",
       "\u001b[90m└───\u001b[39m       goto #15\n",
       "\u001b[90m15 ┄\u001b[39m %34 = φ (#11 => 0, #13 => 1, #14 => %32)\u001b[36m::Int64\u001b[39m\n",
       "\u001b[90m│   \u001b[39m %35 = (Base.add_int)(%20, %34)\u001b[36m::Int64\u001b[39m\n",
       "\u001b[90m└───\u001b[39m       return %35\n",
       ") => Int64"
      ]
     },
     "execution_count": 30,
     "metadata": {},
     "output_type": "execute_result"
    }
   ],
   "source": [
    "function Fibonacci(x::Integer)\n",
    "    if x <= 0\n",
    "        return 0\n",
    "    elseif x == 1\n",
    "        return 1\n",
    "    else\n",
    "        return Fibonacci(x - 1) + Fibonacci(x - 2)\n",
    "    end\n",
    "end\n",
    "\n",
    "@code_typed Fibonacci(9)"
   ]
  },
  {
   "cell_type": "code",
   "execution_count": 31,
   "metadata": {},
   "outputs": [
    {
     "data": {
      "text/plain": [
       "CodeInfo(\n",
       "\u001b[90m1 ─\u001b[39m %1  = x <= 0\n",
       "\u001b[90m└──\u001b[39m       goto #3 if not %1\n",
       "\u001b[90m2 ─\u001b[39m       return 0\n",
       "\u001b[90m3 ─\u001b[39m %4  = x == 1\n",
       "\u001b[90m└──\u001b[39m       goto #5 if not %4\n",
       "\u001b[90m4 ─\u001b[39m       return 1\n",
       "\u001b[90m5 ─\u001b[39m %7  = x - 1\n",
       "\u001b[90m│  \u001b[39m %8  = (Main.Fibonacci)(%7)\n",
       "\u001b[90m│  \u001b[39m %9  = x - 2\n",
       "\u001b[90m│  \u001b[39m %10 = (Main.Fibonacci)(%9)\n",
       "\u001b[90m│  \u001b[39m %11 = %8 + %10\n",
       "\u001b[90m└──\u001b[39m       return %11\n",
       ")"
      ]
     },
     "execution_count": 31,
     "metadata": {},
     "output_type": "execute_result"
    }
   ],
   "source": [
    "@code_lowered Fibonacci(9)"
   ]
  },
  {
   "cell_type": "code",
   "execution_count": 26,
   "metadata": {},
   "outputs": [
    {
     "name": "stdout",
     "output_type": "stream",
     "text": [
      "x = rand(4, 4) = [0.725177 0.816027 0.121251 0.380439; 0.740909 0.553924 0.803027 0.755965; 0.30067 0.625992 0.703292 0.0481021; 0.271992 0.213459 0.542269 0.0205927]\n",
      "x = [0.725177 0.816027 0.0147017 0.380439; 0.740909 0.553924 0.644853 0.755965; 0.0904024 0.625992 0.703292 0.0481021; 0.271992 0.213459 0.294056 0.0205927]\n"
     ]
    }
   ],
   "source": [
    "function myop!(x)\n",
    "    row, col = size(x)\n",
    "    for i in 1:row\n",
    "        j = rand(1:col)\n",
    "        x[i, j] *= x[i, j]\n",
    "    end\n",
    "end\n",
    "\n",
    "myop!(x)\n",
    "@show x;\n",
    "\n",
    "# Let's put too many details aside here.\n",
    "val, dx = grad(x -> myop!(x), x)"
   ]
  },
  {
   "cell_type": "code",
   "execution_count": 32,
   "metadata": {},
   "outputs": [
    {
     "data": {
      "text/plain": [
       "CodeInfo(\n",
       "\u001b[90m1 ──\u001b[39m %1  = (Base.arraysize)(x, 1)\u001b[36m::Int64\u001b[39m\n",
       "\u001b[90m│   \u001b[39m %2  = (Base.arraysize)(x, 2)\u001b[36m::Int64\u001b[39m\n",
       "\u001b[90m│   \u001b[39m %3  = (Base.sle_int)(1, %1)\u001b[36m::Bool\u001b[39m\n",
       "\u001b[90m│   \u001b[39m %4  = (Base.ifelse)(%3, %1, 0)\u001b[36m::Int64\u001b[39m\n",
       "\u001b[90m│   \u001b[39m %5  = (Base.slt_int)(%4, 1)\u001b[36m::Bool\u001b[39m\n",
       "\u001b[90m└───\u001b[39m       goto #3 if not %5\n",
       "\u001b[90m2 ──\u001b[39m       goto #4\n",
       "\u001b[90m3 ──\u001b[39m       goto #4\n",
       "\u001b[90m4 ┄─\u001b[39m %9  = φ (#2 => true, #3 => false)\u001b[36m::Bool\u001b[39m\n",
       "\u001b[90m│   \u001b[39m %10 = φ (#3 => 1)\u001b[36m::Int64\u001b[39m\n",
       "\u001b[90m│   \u001b[39m %11 = φ (#3 => 1)\u001b[36m::Int64\u001b[39m\n",
       "\u001b[90m│   \u001b[39m %12 = (Base.not_int)(%9)\u001b[36m::Bool\u001b[39m\n",
       "\u001b[90m└───\u001b[39m       goto #24 if not %12\n",
       "\u001b[90m5 ┄─\u001b[39m %14 = φ (#4 => %10, #23 => %59)\u001b[36m::Int64\u001b[39m\n",
       "\u001b[90m│   \u001b[39m %15 = φ (#4 => %11, #23 => %60)\u001b[36m::Int64\u001b[39m\n",
       "\u001b[90m│   \u001b[39m %16 = (Base.sle_int)(1, %2)\u001b[36m::Bool\u001b[39m\n",
       "\u001b[90m│   \u001b[39m %17 = (Base.ifelse)(%16, %2, 0)\u001b[36m::Int64\u001b[39m\n",
       "\u001b[90m│   \u001b[39m %18 = Random.GLOBAL_RNG\u001b[36m::MersenneTwister\u001b[39m\n",
       "\u001b[90m│   \u001b[39m %19 = (Base.slt_int)(%17, 1)\u001b[36m::Bool\u001b[39m\n",
       "\u001b[90m└───\u001b[39m       goto #7 if not %19\n",
       "\u001b[90m6 ──\u001b[39m %21 = %new(Core.ArgumentError, \"range must be non-empty\")\u001b[36m::ArgumentError\u001b[39m\n",
       "\u001b[90m│   \u001b[39m       (Random.throw)(%21)\u001b[90m::Union{}\u001b[39m\n",
       "\u001b[90m└───\u001b[39m       $(Expr(:unreachable))\u001b[90m::Union{}\u001b[39m\n",
       "\u001b[90m7 ┄─\u001b[39m %24 = (Base.sub_int)(%17, 1)\u001b[36m::Int64\u001b[39m\n",
       "\u001b[90m│   \u001b[39m %25 = (Base.bitcast)(UInt64, %24)\u001b[36m::UInt64\u001b[39m\n",
       "\u001b[90m│   \u001b[39m %26 = (Base.ctlz_int)(%25)\u001b[36m::UInt64\u001b[39m\n",
       "\u001b[90m│   \u001b[39m %27 = (Core.lshr_int)(%26, 63)\u001b[36m::UInt64\u001b[39m\n",
       "\u001b[90m│   \u001b[39m %28 = (Core.trunc_int)(Core.UInt8, %27)\u001b[36m::UInt8\u001b[39m\n",
       "\u001b[90m│   \u001b[39m %29 = (Core.eq_int)(%28, 0x01)\u001b[36m::Bool\u001b[39m\n",
       "\u001b[90m└───\u001b[39m       goto #9 if not %29\n",
       "\u001b[90m8 ──\u001b[39m       invoke Core.throw_inexacterror(:check_top_bit::Symbol, UInt64::Any, %26::UInt64)\u001b[90m::Union{}\u001b[39m\n",
       "\u001b[90m└───\u001b[39m       $(Expr(:unreachable))\u001b[90m::Union{}\u001b[39m\n",
       "\u001b[90m9 ┄─\u001b[39m       goto #10\n",
       "\u001b[90m10 ─\u001b[39m %34 = (Core.bitcast)(Core.Int64, %26)\u001b[36m::Int64\u001b[39m\n",
       "\u001b[90m└───\u001b[39m       goto #11\n",
       "\u001b[90m11 ─\u001b[39m       goto #12\n",
       "\u001b[90m12 ─\u001b[39m       goto #13\n",
       "\u001b[90m13 ─\u001b[39m %38 = (Base.sub_int)(64, %34)\u001b[36m::Int64\u001b[39m\n",
       "\u001b[90m│   \u001b[39m %39 = (Base.bitcast)(UInt64, %38)\u001b[36m::UInt64\u001b[39m\n",
       "\u001b[90m│   \u001b[39m %40 = (Base.shl_int)(0x0000000000000001, %39)\u001b[36m::UInt64\u001b[39m\n",
       "\u001b[90m│   \u001b[39m %41 = (Base.sub_int)(%40, 0x0000000000000001)\u001b[36m::UInt64\u001b[39m\n",
       "\u001b[90m│   \u001b[39m %42 = %new(SamplerRangeFast{UInt64,Int64}, 1, %39, %25, %41)\u001b[36m::SamplerRangeFast{UInt64,Int64}\u001b[39m\n",
       "\u001b[90m└───\u001b[39m       goto #14\n",
       "\u001b[90m14 ─\u001b[39m       goto #15\n",
       "\u001b[90m15 ─\u001b[39m       goto #16\n",
       "\u001b[90m16 ─\u001b[39m       goto #17\n",
       "\u001b[90m17 ─\u001b[39m %47 = invoke Random.rand(%18::Random.MersenneTwister, %42::Random.SamplerRangeFast{UInt64,Int64})\u001b[36m::Int64\u001b[39m\n",
       "\u001b[90m└───\u001b[39m       goto #18\n",
       "\u001b[90m18 ─\u001b[39m       goto #19\n",
       "\u001b[90m19 ─\u001b[39m %50 = (Base.arrayref)(true, x, %14, %47)\u001b[36m::Float64\u001b[39m\n",
       "\u001b[90m│   \u001b[39m %51 = (Base.arrayref)(true, x, %14, %47)\u001b[36m::Float64\u001b[39m\n",
       "\u001b[90m│   \u001b[39m %52 = (Base.mul_float)(%50, %51)\u001b[36m::Float64\u001b[39m\n",
       "\u001b[90m│   \u001b[39m       (Base.arrayset)(true, x, %52, %14, %47)\u001b[90m::Array{Float64,2}\u001b[39m\n",
       "\u001b[90m│   \u001b[39m %54 = (%15 === %4)\u001b[36m::Bool\u001b[39m\n",
       "\u001b[90m└───\u001b[39m       goto #21 if not %54\n",
       "\u001b[90m20 ─\u001b[39m       goto #22\n",
       "\u001b[90m21 ─\u001b[39m %57 = (Base.add_int)(%15, 1)\u001b[36m::Int64\u001b[39m\n",
       "\u001b[90m└───\u001b[39m       goto #22\n",
       "\u001b[90m22 ┄\u001b[39m %59 = φ (#21 => %57)\u001b[36m::Int64\u001b[39m\n",
       "\u001b[90m│   \u001b[39m %60 = φ (#21 => %57)\u001b[36m::Int64\u001b[39m\n",
       "\u001b[90m│   \u001b[39m %61 = φ (#20 => true, #21 => false)\u001b[36m::Bool\u001b[39m\n",
       "\u001b[90m│   \u001b[39m %62 = (Base.not_int)(%61)\u001b[36m::Bool\u001b[39m\n",
       "\u001b[90m└───\u001b[39m       goto #24 if not %62\n",
       "\u001b[90m23 ─\u001b[39m       goto #5\n",
       "\u001b[90m24 ┄\u001b[39m       return\n",
       ") => Nothing"
      ]
     },
     "execution_count": 32,
     "metadata": {},
     "output_type": "execute_result"
    }
   ],
   "source": [
    "@code_typed myop!(x)"
   ]
  }
 ],
 "metadata": {
  "kernelspec": {
   "display_name": "Julia 1.1.0",
   "language": "julia",
   "name": "julia-1.1"
  },
  "language_info": {
   "file_extension": ".jl",
   "mimetype": "application/julia",
   "name": "julia",
   "version": "1.1.0"
  }
 },
 "nbformat": 4,
 "nbformat_minor": 2
}
