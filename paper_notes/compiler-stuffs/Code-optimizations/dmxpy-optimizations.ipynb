{
 "cells": [
  {
   "cell_type": "code",
   "execution_count": 1,
   "metadata": {},
   "outputs": [],
   "source": [
    "import time\n",
    "import numpy as np\n",
    "np.random.seed(1234)"
   ]
  },
  {
   "cell_type": "markdown",
   "metadata": {},
   "source": [
    "### The naive implementation of `dmxpy`\n",
    "\n",
    "![](images/dmxpy.png)"
   ]
  },
  {
   "cell_type": "code",
   "execution_count": 2,
   "metadata": {},
   "outputs": [
    {
     "name": "stdout",
     "output_type": "stream",
     "text": [
      "  C_CONTIGUOUS : False\n",
      "  F_CONTIGUOUS : True\n",
      "  OWNDATA : True\n",
      "  WRITEABLE : True\n",
      "  ALIGNED : True\n",
      "  WRITEBACKIFCOPY : False\n",
      "  UPDATEIFCOPY : False\n",
      "\n"
     ]
    }
   ],
   "source": [
    "n1 = 112\n",
    "n2 = 1069\n",
    "\n",
    "y = np.asfortranarray(np.random.rand(n1))\n",
    "y_copy = y.copy()\n",
    "x = np.asfortranarray(np.random.rand(n2))\n",
    "# m is stored in column major format.\n",
    "m = np.asfortranarray(np.random.rand(n1, n2))\n",
    "print(m.flags)"
   ]
  },
  {
   "cell_type": "code",
   "execution_count": 3,
   "metadata": {},
   "outputs": [],
   "source": [
    "def dmxpy(n1, y, n2, x, m):\n",
    "    for j in range(n2):\n",
    "        for i in range(n1):\n",
    "            y[i] = y[i] + x[j] * m[i, j]"
   ]
  },
  {
   "cell_type": "markdown",
   "metadata": {},
   "source": [
    "## Mannual optimizations"
   ]
  },
  {
   "cell_type": "code",
   "execution_count": 4,
   "metadata": {},
   "outputs": [],
   "source": [
    "def dmxpy_op(n1, y, n2, x, m):\n",
    "    def __unroll_1(jmin):\n",
    "        y[i] = y[i] + x[jmin] * m[i, jmin]\n",
    "\n",
    "    def __unroll_2(jmin):\n",
    "        y[i] = y[i] + x[jmin] * m[i, jmin] + x[jmin + 1] * m[i, jmin + 1]\n",
    "\n",
    "    def __unroll_4(jmin):\n",
    "        y[i] = (y[i] + x[jmin] * m[i, jmin] + x[jmin + 1] * m[i, jmin + 1] +\n",
    "                x[jmin + 2] * m[i, jmin + 2] + x[jmin + 3] * m[i, jmin + 3])\n",
    "\n",
    "    def __unroll_8(jmin):\n",
    "        y[i] = (y[i] + x[jmin] * m[i, jmin] + x[jmin + 1] * m[i, jmin + 1] +\n",
    "                x[jmin + 2] * m[i, jmin + 2] + x[jmin + 3] * m[i, jmin + 3] +\n",
    "                x[jmin + 4] * m[i, jmin + 4] + x[jmin + 5] * m[i, jmin + 5] +\n",
    "                x[jmin + 6] * m[i, jmin + 6] + x[jmin + 7] * m[i, jmin + 7])\n",
    "\n",
    "    remainder = n2 % 16\n",
    "    width = n2 - remainder\n",
    "    jmin = width  # The setup loops\n",
    "    for i in range(n1):\n",
    "        if remainder == 1:\n",
    "            __unroll_1(jmin)\n",
    "        elif remainder == 2:\n",
    "            __unroll_2(jmin)\n",
    "        elif remainder == 4:\n",
    "            __unroll_4(jmin)\n",
    "        elif remainder == 8:\n",
    "            __unroll_8(jmin)\n",
    "        elif remainder == 3:\n",
    "            __unroll_1(jmin)\n",
    "            __unroll_2(jmin + 1)\n",
    "        elif remainder == 5:\n",
    "            __unroll_1(jmin)\n",
    "            __unroll_4(jmin + 1)\n",
    "        elif remainder == 7:\n",
    "            __unroll_1(jmin)\n",
    "            __unroll_2(jmin + 1)\n",
    "            __unroll_4(jmin + 3)\n",
    "        elif remainder == 9:\n",
    "            __unroll_1(jmin)\n",
    "            __unroll_8(jmin + 1)\n",
    "        elif remainder == 10:\n",
    "            __unroll_2(jmin)\n",
    "            __unroll_8(jmin + 2)\n",
    "        elif remainder == 11:\n",
    "            __unroll_1(jmin)\n",
    "            __unroll_2(jmin + 1)\n",
    "            __unroll_8(jmin + 3)\n",
    "        elif remainder == 12:\n",
    "            __unroll_4(jmin)\n",
    "            __unroll_8(jmin + 4)\n",
    "        elif remainder == 13:\n",
    "            __unroll_1(jmin)\n",
    "            __unroll_4(jmin + 1)\n",
    "            __unroll_8(jmin + 5)\n",
    "        elif remainder == 14:\n",
    "            __unroll_2(jmin)\n",
    "            __unroll_4(jmin + 2)\n",
    "            __unroll_8(jmin + 6)\n",
    "        elif remainder == 15:\n",
    "            __unroll_1(jmin)\n",
    "            __unroll_2(jmin + 1)\n",
    "            __unroll_4(jmin + 3)\n",
    "            __unroll_8(jmin + 7)\n",
    "\n",
    "    for jmin in range(0, width, 16):\n",
    "        for i in range(n1):\n",
    "            y[i] = (\n",
    "                y[i] + x[jmin] * m[i, jmin] + x[jmin + 1] * m[i, jmin + 1] +\n",
    "                x[jmin + 2] * m[i, jmin + 2] + x[jmin + 3] * m[i, jmin + 3] +\n",
    "                x[jmin + 4] * m[i, jmin + 4] + x[jmin + 5] * m[i, jmin + 5] +\n",
    "                x[jmin + 6] * m[i, jmin + 6] + x[jmin + 7] * m[i, jmin + 7] +\n",
    "                x[jmin + 8] * m[i, jmin + 8] + x[jmin + 9] * m[i, jmin + 9] +\n",
    "                x[jmin + 10] * m[i, jmin + 10] +\n",
    "                x[jmin + 11] * m[i, jmin + 11] +\n",
    "                x[jmin + 12] * m[i, jmin + 12] +\n",
    "                x[jmin + 13] * m[i, jmin + 13] +\n",
    "                x[jmin + 14] * m[i, jmin + 14] +\n",
    "                x[jmin + 15] * m[i, jmin + 15])"
   ]
  },
  {
   "cell_type": "code",
   "execution_count": 5,
   "metadata": {},
   "outputs": [],
   "source": [
    "dmxpy(n1, y, n2, x, m)\n",
    "dmxpy_op(n1, y_copy, n2, x, m)\n",
    "assert np.allclose(y, y_copy)"
   ]
  },
  {
   "cell_type": "code",
   "execution_count": 6,
   "metadata": {},
   "outputs": [
    {
     "name": "stdout",
     "output_type": "stream",
     "text": [
      "dmxpy original time elpased :  0.7674617767333984\n",
      "dmxpy optimized time elpased :  0.6426739692687988\n"
     ]
    }
   ],
   "source": [
    "dmxpy(n1, y, n2, x, m)\n",
    "for _ in range(10):\n",
    "    dmxpy(n1, y, n2, x, m)\n",
    "start = time.time()\n",
    "for _ in range(10):\n",
    "    dmxpy(n1, y, n2, x, m)\n",
    "print(\"dmxpy original time elpased : \", time.time() - start)\n",
    "\n",
    "start = time.time()\n",
    "dmxpy_op(n1, y_copy, n2, x, m)\n",
    "for _ in range(10):\n",
    "    dmxpy_op(n1, y_copy, n2, x, m)\n",
    "start = time.time()\n",
    "for _ in range(10):\n",
    "    dmxpy_op(n1, y_copy, n2, x, m)\n",
    "print(\"dmxpy optimized time elpased : \", time.time() - start)"
   ]
  }
 ],
 "metadata": {
  "kernelspec": {
   "display_name": "Python 3",
   "language": "python",
   "name": "python3"
  },
  "language_info": {
   "codemirror_mode": {
    "name": "ipython",
    "version": 3
   },
   "file_extension": ".py",
   "mimetype": "text/x-python",
   "name": "python",
   "nbconvert_exporter": "python",
   "pygments_lexer": "ipython3",
   "version": "3.6.5"
  }
 },
 "nbformat": 4,
 "nbformat_minor": 4
}
