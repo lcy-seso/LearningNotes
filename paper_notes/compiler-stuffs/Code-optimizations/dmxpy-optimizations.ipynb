{
 "cells": [
  {
   "cell_type": "code",
   "execution_count": 16,
   "metadata": {},
   "outputs": [
    {
     "name": "stdout",
     "output_type": "stream",
     "text": [
      "  C_CONTIGUOUS : False\n",
      "  F_CONTIGUOUS : True\n",
      "  OWNDATA : True\n",
      "  WRITEABLE : True\n",
      "  ALIGNED : True\n",
      "  WRITEBACKIFCOPY : False\n",
      "  UPDATEIFCOPY : False\n",
      "\n"
     ]
    }
   ],
   "source": [
    "import numpy as np\n",
    "np.random.seed(1234)\n",
    "\n",
    "n1 = 27\n",
    "n2 = 33\n",
    "\n",
    "y = np.asfortranarray(np.random.rand(n1))\n",
    "x = np.asfortranarray(np.random.rand(n2))\n",
    "m = np.asfortranarray(np.random.rand(n1, n2))  # m is stored\n",
    "print(m.flags)"
   ]
  },
  {
   "cell_type": "markdown",
   "metadata": {},
   "source": [
    "### The naive implementation of `dmxpy`\n",
    "\n",
    "![](images/dmxpy.png)"
   ]
  },
  {
   "cell_type": "code",
   "execution_count": 15,
   "metadata": {},
   "outputs": [
    {
     "name": "stdout",
     "output_type": "stream",
     "text": [
      "[ 8.26494758 10.61911629  9.790455   11.52985923 10.10153616  8.05442761\n",
      " 10.48860887 11.14486219 10.09004251 10.63020091 10.58100265  9.12302033\n",
      "  8.5356627   9.88709464  9.12355386  7.85972429  9.63823456  8.26791571\n",
      "  8.68563     8.09916613 10.73820648 10.75853869  9.82689469  7.7020329\n",
      " 10.0450319  10.33759114 10.66127284]\n"
     ]
    }
   ],
   "source": [
    "def dmxpy(n1, y, n2, x, m):\n",
    "    for j in range(n2):\n",
    "        for i in range(n1):\n",
    "            y[i] = y[i] + x[j] * m[i, j]\n",
    "            \n",
    "dmxpy(n1, y, n2, x, m)\n",
    "\n",
    "print(y)"
   ]
  }
 ],
 "metadata": {
  "kernelspec": {
   "display_name": "Python 3",
   "language": "python",
   "name": "python3"
  },
  "language_info": {
   "codemirror_mode": {
    "name": "ipython",
    "version": 3
   },
   "file_extension": ".py",
   "mimetype": "text/x-python",
   "name": "python",
   "nbconvert_exporter": "python",
   "pygments_lexer": "ipython3",
   "version": "3.6.5"
  }
 },
 "nbformat": 4,
 "nbformat_minor": 4
}
